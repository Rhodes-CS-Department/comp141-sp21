{
 "cells": [
  {
   "cell_type": "code",
   "execution_count": null,
   "metadata": {},
   "outputs": [],
   "source": [
    "# Run this cell to log in to okpy.org so that you can submit\n",
    "# at the end of the lab.\n",
    "from client.api.notebook import Notebook\n",
    "ok = Notebook('p2.ok')\n",
    "_ = ok.auth(inline=True)"
   ]
  },
  {
   "cell_type": "markdown",
   "metadata": {},
   "source": [
    "# Program 2: Payday Loans\n",
    "\n",
    "# Instructions\n",
    "\n",
    "Please read this document in its entirety __before__ writing code. There are hints and guidelines toward the end of the document that will help you, and reading the whole assignment will give you a better idea for the algorithms you will need to implement.\n",
    "\n",
    "\n",
    "# Computing for the Social Good\n",
    "\n",
    "Understanding the potential for good (and harm) is one of the learning goals for this class.   We should understand the role that computing plays in responding to social, ecological, political, and other challenges.  As you use computer science in the future, we hope you’ll analyze each situation with an eye on the ethics and potential consequences. \n",
    "\n",
    "\n",
    "# Payday Loans\n",
    "\n",
    "With annual percentage rates (APRs) of 400–600 percent, payday loans carry some of the highest interest rates available on credit products.\n",
    "\n",
    "This is an order of magnitude higher than a credit card (_e.g.,_ a typical credit card is 15-20% APR), and failure to pay off the loan on time is a common-enough occurrence that interest charges can be _much more_ than the actual amount borrowed.\n",
    "\n",
    "These lending percentage rates are not advertised and made readily available.  About 10 million American households borrow using payday loans each year, and payday lenders have more storefronts in the United States than McDonald’s and Starbucks combined (Pew Charitable Trusts 2012; Lusardi and de Bassa Scheresberg 2013).  Google `payday loans Memphis` to see what I mean.\n",
    "\n",
    "\n",
    "__How do Payday Loans work?__   A payday loan is a short-term loan that can help you cover immediate cash needs until you get your next paycheck. They are usually small-dollar, high-cost loans that charge a fee that is typically due within two weeks—or close to your next payday.   Many people resort to payday loans because they're easy to get. They may have poor credit or no income, which can prevent them from getting a personal loan with better terms.  Another reason may be a lack of knowledge about or fear of alternatives.  There are some alternatives but they make less money _for the lenders_ and therefore are less heavily advertised.\n",
    "\n",
    "Payday lenders have few requirements for approval. Most don't run a credit check or even require that the borrower has the means to repay the loan. All you typically need is identification, a bank account in relatively good standing, and a steady paycheck.   \n",
    "\n",
    "Unfortunately, many payday loan borrowers can't repay the debt by the due date. In fact, the CFPB found that 20% of payday borrowers default on their loans, and more than 80% of payday loans taken out by borrowers were rolled over or reborrowed within 30 days. \n",
    "\n",
    "Here's a recent news story about these loans:\n",
    "\n",
    "https://www.wmcactionnews5.com/2020/09/06/memphis-city-council-urges-state-ban-all-payday-lenders/\n",
    "\n",
    "(Please watch the video)"
   ]
  },
  {
   "cell_type": "markdown",
   "metadata": {},
   "source": [
    "To add to the story about these loans, you can do some research to see that since COVID-19 regulators have loosened restrictions around these small-dollar, high-interest loans, giving vulnerable people more access to loans that will cost them money they don’t have. \n",
    "\n",
    "One of the biggest obstacles in educating the public about these loans is that the annual percentage rate (APR) is not readily available.   It's difficult to understand what sort of fee the lenders are offering and if the fee is reasonable because it is __not__ shown as an APR.\n",
    "\n",
    "__This is the problem that we will use a program to solve: given the conditions of the loan, what is its APR?__\n",
    "\n",
    "Companies typically describe a loan's conditions in one of two ways:\n",
    "\n",
    "> 1) The loan amount (total cash they receive), the finance charge, and the loan terms (in days or months) \n",
    "\n",
    "-or-\n",
    "\n",
    "> 2) A flat fee per every &#36;100 borrowed, along with the finance charge that is _either_ a percentage of the &#36;100 or a dollar amount.\n",
    "\n",
    "Given either of these scenarios, we can compute the APR of the loan."
   ]
  },
  {
   "cell_type": "markdown",
   "metadata": {},
   "source": [
    "## Program Assignment\n",
    "\n",
    "For this assignment, you will write a program that calculates the APR of a payday loan in these two scenarios.\n",
    "\n",
    "You'll write your program in the file `payday.py` that appears in this folder.\n",
    "\n",
    "Here is a sample interaction with the program, assuming the conditions were stated as in scenario 1 above:\n",
    "\n",
    "### Example interaction for scenario 1\n",
    "```\n",
    "Welcome to the Payday loan APR calculator.\n",
    "Please have the proposed terms of your payday loan handy so we can calculate the APR.\n",
    "\n",
    "Select which one best fits your situation.\n",
    "  (1) I know the total loan amount or amount the borrower will receive, the total fee or cost of the loan, and the length of the loan (in days or months).\n",
    "  (2) I know the fee in dollars (or percent) for every 100 dollars borrowed and the length of the loan (in days or months).\n",
    " \n",
    "How was the information given to you (1) or (2)? 1\n",
    "\n",
    "What is the total loan amount? 350.00\n",
    "What is the total fee or finance charge for the loan? 50.00\n",
    "Were you given the loan length in days or months? Enter d or m: d\n",
    "How many days will you have the loan? 14\n",
    " \n",
    "Your 14 day loan has an APR of 372.45%.\n",
    "```\n",
    "\n",
    "### Algorithm for scenario 1\n",
    "\n",
    "In scenario 1, we are given the Total Loan Amount, the Total Finance Charge, and the Duration in Days.\n",
    "\n",
    "Here's the algorithm for calculating the APR:\n",
    "\n",
    "1. Divide the total Finance Charge by the Total Loan Amount\n",
    "2. Multiply the answer in step 1 by the number of days in the year (365) \n",
    "3. Divide the answer in step 2 by the term in number of days\n",
    "4. Multiple the in step 3 by 100 to get the APR\n",
    "\n",
    "In other words:\n",
    "\n",
    "$APR = 100 \\cdot 365 \\cdot \\frac{charge}{term \\cdot amount}$\n",
    "\n",
    "This assumes the term is a duration in days, but you'll have to change your code and this formula so that it works when the user enters months instead of days.\n",
    "\n",
    "__Hint:__ This means that the 365 term should change to months/year."
   ]
  },
  {
   "cell_type": "markdown",
   "metadata": {},
   "source": [
    "### Example interaction for scenario 2\n",
    "    \n",
    "```\n",
    "Welcome to the Payday loan APR calculator.\n",
    "Please have the proposed terms of your payday loan handy so we can calculate the APR.\n",
    " \n",
    "Select which one best fits your situation.\n",
    "  (1) I know the total loan amount or amount the borrower will receive , the total fee or cost of the loan, and the length of the loan (in days or months)\n",
    "  (2) I know the fee in dollars (or percent) for every 100 dollars borrowed and the length of the loan (in days or months)\n",
    " \n",
    "How was the information given to you (1) or (2)? 2\n",
    " \n",
    " \n",
    "Where you given a percentage rate or a set finance charge for every 100 USD? Enter p or c: c\n",
    "What is the flat fee for each 100 USD borrowed? 20\n",
    "Were you given the loan length in days or months? Enter d or m: d\n",
    "How many days will you have the loan? 14\n",
    " \n",
    "Your 14 day loan has an APR of 521.43%.\n",
    "```\n",
    "\n",
    "### Algorithm for scenario 2\n",
    "\n",
    "1. If the charge per &#36;100 is given in dollars, divide it by 100.\n",
    "2. Multiply the charge by the number of days in the year.\n",
    "3. Divide the answer in step 2 by number of days in the loan.  \n",
    "4. Multiply your answer by 100.\n",
    "\n",
    "In other words:\n",
    "\n",
    "$APR = \\frac{charge}{100} \\cdot \\frac{365}{term} \\cdot 100$\n",
    "\n",
    "__Hint:__ Similarly, the 365 term here will need to change to months/year if the user's term is in months.\n",
    "\n",
    "Decide whether you will accept a whole number as a percent for the percent charge option; if so, you will need to convert it to a decimal."
   ]
  },
  {
   "cell_type": "code",
   "execution_count": null,
   "metadata": {},
   "outputs": [],
   "source": [
    "# Run this cell to run your program.\n",
    "%run payday.py"
   ]
  },
  {
   "cell_type": "code",
   "execution_count": null,
   "metadata": {},
   "outputs": [],
   "source": [
    "# Test cases: run your program with the following inputs\n",
    "# and then run this cell to validate the results.\n",
    "\n",
    "# Note that the example interactions are test cases as well.\n",
    "# Make sure that your program generates those outputs.\n",
    "\n",
    "# Scenario 1: 1000 borrowed, 250 fee, 2 month term\n",
    "scenario_1_months_rate = 0 # change me!\n",
    "\n",
    "# Scenario 2: 30% rate, 2 month term\n",
    "scenario_2_months_rate = 0 # change me!"
   ]
  },
  {
   "cell_type": "code",
   "execution_count": null,
   "metadata": {},
   "outputs": [],
   "source": [
    "_ = ok.grade('q1')\n",
    "_ = ok.grade('q2')"
   ]
  },
  {
   "cell_type": "markdown",
   "metadata": {},
   "source": [
    "Are these number realistic? What is the average rate of a payday loan? Double click this cell to answer:\n",
    "\n",
    "__Average rate:__"
   ]
  },
  {
   "cell_type": "markdown",
   "metadata": {},
   "source": [
    "### Guidelines:\n",
    "* Make sure that your code rounds the APR to a single decimal place.\n",
    "* Run/Debug along the way.  Get one way working then try the other.\n",
    "* You must use comments and make your code readable\n",
    "* You should use constants (see below) for any numbers that are used in formulae."
   ]
  },
  {
   "cell_type": "markdown",
   "metadata": {},
   "source": [
    "### Constants\n",
    "\n",
    "First notice that I have defined a [constant](https://en.wikipedia.org/wiki/Constant_(computer_programming)) for the number of days in a year. The advantage of using `DAYS_PER_YEAR` vs. `365` in a computation is that the _meaning_ of the number is clearer in an expression. \n",
    "\n",
    "We automatically kind of know that if we see 365, we think \"days per year\" -- but what about values like 86400 or 3600? \n",
    "\n",
    "Which one of these is more quickly understandable?\n",
    "\n",
    "`a = y * 86400 * 365`\n",
    "\n",
    "-or-\n",
    "\n",
    "`age_in_seconds = age_in_years * SECONDS_PER_DAY * DAYS_PER_YEAR`\n",
    "\n",
    "<small style=\"font-size: x-small\">(3600 is the number of seconds in an hour, by the way).</small>"
   ]
  },
  {
   "cell_type": "markdown",
   "metadata": {},
   "source": [
    "## Computing for social good\n",
    "\n",
    "Our program has the purpose of making loan terms clearer to borrowers, and has the benefit of empowering loan consumers, rather than predatory lenders.\n",
    "\n",
    "However, not all software benefits the good of society. Find an example of when an algorithm (a program or piece of software) went wrong...and did not benefit the social good.  Tell me what you found in a couple of sentences, including a link to an article you read."
   ]
  },
  {
   "cell_type": "markdown",
   "metadata": {},
   "source": [
    "__Your answers here...__ Double click this cell to edit and remove this text."
   ]
  },
  {
   "cell_type": "code",
   "execution_count": null,
   "metadata": {},
   "outputs": [],
   "source": [
    "# Run this cell to submit.\n",
    "# If you get an error message saying that name 'ok' is not defined, you need to re-run \n",
    "# the very first code cell at the top of this notebook - it will log you into okpy, then you can \n",
    "# scroll back down here and submit.\n",
    "# Submit as frequently as you like; I will only grade the last submission.\n",
    "_ = ok.submit()"
   ]
  },
  {
   "cell_type": "markdown",
   "metadata": {},
   "source": [
    "## Additional Challenges\n",
    "\n",
    "Doing anything additional is strictly optional but can get you a few points of extra credit, should you decide to continue experimenting with your program!\n",
    "\n",
    "Just make sure you meet the minimum requirements of the program, and be sure to tell me in the comments anything additional you added to your program.\n",
    "\n",
    "Remember, you can submit as many times as you like!"
   ]
  },
  {
   "cell_type": "code",
   "execution_count": null,
   "metadata": {},
   "outputs": [],
   "source": []
  }
 ],
 "metadata": {
  "kernelspec": {
   "display_name": "Python 3",
   "language": "python",
   "name": "python3"
  },
  "language_info": {
   "codemirror_mode": {
    "name": "ipython",
    "version": 3
   },
   "file_extension": ".py",
   "mimetype": "text/x-python",
   "name": "python",
   "nbconvert_exporter": "python",
   "pygments_lexer": "ipython3",
   "version": "3.8.6"
  },
  "varInspector": {
   "cols": {
    "lenName": 16,
    "lenType": 16,
    "lenVar": 40
   },
   "kernels_config": {
    "python": {
     "delete_cmd_postfix": "",
     "delete_cmd_prefix": "del ",
     "library": "var_list.py",
     "varRefreshCmd": "print(var_dic_list())"
    },
    "r": {
     "delete_cmd_postfix": ") ",
     "delete_cmd_prefix": "rm(",
     "library": "var_list.r",
     "varRefreshCmd": "cat(var_dic_list()) "
    }
   },
   "types_to_exclude": [
    "module",
    "function",
    "builtin_function_or_method",
    "instance",
    "_Feature"
   ],
   "window_display": false
  }
 },
 "nbformat": 4,
 "nbformat_minor": 2
}
