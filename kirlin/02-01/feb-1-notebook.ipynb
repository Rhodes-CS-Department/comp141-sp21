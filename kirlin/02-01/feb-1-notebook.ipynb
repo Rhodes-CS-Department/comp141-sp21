{
 "cells": [
  {
   "cell_type": "markdown",
   "metadata": {},
   "source": [
    "# Review"
   ]
  },
  {
   "cell_type": "markdown",
   "metadata": {},
   "source": [
    "## Key ideas about programming\n",
    "- Most every program you write does the following things:\n",
    "  \n",
    "  - Step 1: Receive input.\n",
    "  - Step 2: Process the input (with some sort of algorithm).\n",
    "  - Step 3: Produce output.\n",
    "  \n",
    "- Programs execute line by line, top to bottom (with a cell).\n",
    "\n",
    "- In a notebook, press Shift-Enter to run a cell.\n"
   ]
  },
  {
   "cell_type": "markdown",
   "metadata": {},
   "source": [
    "## `print` function\n",
    "\n",
    "- Syntax: `print(______, ______, ...)`\n",
    "- Outputs anything inside the parentheses to the screen.  Multiple items will be separated by spaces.\n",
    "\n",
    "## Data types\n",
    "\n",
    "- Three main ones:  \n",
    "  - integers (whole numbers), known as `int`s\n",
    "  - numbers with a decimal point, known as `float`s\n",
    "  - sequences of letters/numbers/symbols/punctuation, known as strings (in Python: `str`)\n",
    "  \n",
    "- Strings must always be surrounded by single or double quotes!"
   ]
  },
  {
   "cell_type": "code",
   "execution_count": null,
   "metadata": {},
   "outputs": [],
   "source": [
    "# Practice printing each kind of data type.\n",
    "\n",
    "print(3)      # prints an int\n",
    "print(-3.5)   # prints a float\n",
    "print(\"Hello world!\")  # prints a string\n",
    "print(\"Here is an integer:\", 78, \"and here is a float:\", 0.003)\n"
   ]
  },
  {
   "cell_type": "markdown",
   "metadata": {},
   "source": [
    "## Variables\n",
    "\n",
    "- The job of a **variable** is to hold a **value**.  Variables can hold values of any data type.\n",
    "- The most common way to give a variable a value is with an **assignment statement**.\n",
    "\n",
    "*`variable = value`*\n",
    "\n",
    "- The variable *must* go on the left side, and the value *must* go on the right. \n"
   ]
  },
  {
   "cell_type": "code",
   "execution_count": null,
   "metadata": {},
   "outputs": [],
   "source": [
    "# Practice printing each kind of data type.\n",
    "\n",
    "num_bananas = 3\n",
    "num_watermelons = 2.5\n",
    "name = \"Bill Gates\"\n",
    "print(name, \"is eating\", num_bananas, \"bananas and\", num_watermelons, \"watermelons.\")"
   ]
  },
  {
   "cell_type": "markdown",
   "metadata": {},
   "source": [
    "## Math\n",
    "\n",
    "- For numbers: addition (`+`), subtraction (`-`), multiplication (`*`), division (`/`), exponents (`**`)\n",
    "\n",
    "- For strings: addition (`+`)"
   ]
  },
  {
   "cell_type": "code",
   "execution_count": null,
   "metadata": {},
   "outputs": [],
   "source": [
    "# Math examples\n",
    "a = 5\n",
    "b = 3\n",
    "c = a + b\n",
    "d = a - b\n",
    "e = a + b * c\n",
    "f = (a + b) * c\n",
    "print(a, b, c, d, e, f)"
   ]
  },
  {
   "cell_type": "markdown",
   "metadata": {},
   "source": [
    "- Also remainder (`%`) and integer division (`//`)"
   ]
  },
  {
   "cell_type": "code",
   "execution_count": null,
   "metadata": {},
   "outputs": [],
   "source": [
    "# Remainder example:\n",
    "print(\"The remainder of 13 divided by 5 is\", 13 % 5)\n",
    "\n",
    "# Or, same thing:\n",
    "remainder = 13 % 5\n",
    "print(\"The remainder of 13 divided by 5 is\", remainder)"
   ]
  },
  {
   "cell_type": "code",
   "execution_count": null,
   "metadata": {},
   "outputs": [],
   "source": [
    "# Integer division example:\n",
    "print(\"13 divided by 5 exactly is\", 13 / 5)\n",
    "print(\"But the integer portion is\", 13 // 5)\n",
    "\n",
    "# Or, equivalently:\n",
    "quotient = 13 // 5\n",
    "print(\"But the integer portion is\", quotient)"
   ]
  },
  {
   "cell_type": "markdown",
   "metadata": {},
   "source": [
    "- Remainders and integer division are often used to convert distances and times.\n",
    "- These operations are also used to check whether a number is even or odd, or if one number is divisible by another number."
   ]
  },
  {
   "cell_type": "code",
   "execution_count": null,
   "metadata": {},
   "outputs": [],
   "source": [
    "# String addition (better known as string concatenation)\n",
    "a = \"Rhodes\"\n",
    "b = \"College\"\n",
    "c = a + b\n",
    "print(c)"
   ]
  },
  {
   "cell_type": "code",
   "execution_count": null,
   "metadata": {},
   "outputs": [],
   "source": [
    "print(a + \" \" + b) \n",
    "\n",
    "d = a + \" \" + b\n",
    "print(d) # Same thing"
   ]
  },
  {
   "cell_type": "code",
   "execution_count": null,
   "metadata": {},
   "outputs": [],
   "source": [
    "# You can only add a number to a number, or a string to a string.\n",
    "\n",
    "print(3 + 4)      # ok\n",
    "print(\"3\" + \"4\")  # also ok\n",
    "print(\"3\" + 4)    # not ok"
   ]
  },
  {
   "attachments": {},
   "cell_type": "markdown",
   "metadata": {},
   "source": [
    "# Practice\n",
    "### You are driving along an empty highway in South Carolina, keeping up with the flow of traffic, but going 74 miles-per-hour in a 60 miles-per-hour zone\\*. Assume that the fine is \\$15 for every mile per hour over the limit.\n",
    "\n",
    "\\* This example in no way reflects anything that may or may not have happened to your professor north of Charleston.\n",
    "\n",
    "### Which of the following programs will print the correct fine?\n",
    "\n",
    "```python\n",
    "# These are three completely separate programs.\n",
    "\n",
    "# Program 1\n",
    "speed = 74\n",
    "limit = 60\n",
    "print(fine)\n",
    "fine = (speed - limit) * 15\n",
    "\n",
    "# Program 2\n",
    "speed = 74\n",
    "limit = 60\n",
    "fine = over * 15\n",
    "over = (speed - limit)\n",
    "print(fine)\n",
    "\n",
    "# Program 3\n",
    "limit = 60\n",
    "speed = 74\n",
    "fine = (speed - limit) * 15\n",
    "print(fine)\n",
    "```"
   ]
  },
  {
   "cell_type": "code",
   "execution_count": null,
   "metadata": {},
   "outputs": [],
   "source": [
    "%reset -f\n",
    "# Do the examples above in your head first, before running them.  (Ignore the %reset line above.)\n"
   ]
  },
  {
   "attachments": {},
   "cell_type": "markdown",
   "metadata": {},
   "source": [
    "### What is the output of the following program? (this is one continuous program).\n",
    "\n",
    "```python\n",
    "a = 4\n",
    "b = 5\n",
    "print(a, b)\n",
    "a = 3\n",
    "b = a\n",
    "print(a, b)\n",
    "a = b + 1\n",
    "a = a + 1\n",
    "print(a, b)\n",
    "a = 1\n",
    "b = 2\n",
    "a = b\n",
    "b = a\n",
    "print(a, b)\n",
    "```"
   ]
  },
  {
   "cell_type": "code",
   "execution_count": null,
   "metadata": {},
   "outputs": [],
   "source": []
  },
  {
   "cell_type": "markdown",
   "metadata": {},
   "source": [
    "## Performing Calculation Practice\n",
    "\n",
    "#### Fast food prices\n",
    "\n",
    "* You’re working at a fast food restaurant where a burger costs `$3.99` and French fries cost `$1.99`.\n",
    "* Write a program (in the cell below) that uses 2 variables to store these two prices.\n",
    "* Your program should then print out the cost of buying 2 burgers and 3 fries.\n",
    "* If you finish early, make your program add in 9.25% sales tax.\n",
    "\n",
    "Don't forget to test your code!"
   ]
  },
  {
   "cell_type": "code",
   "execution_count": null,
   "metadata": {},
   "outputs": [],
   "source": []
  },
  {
   "cell_type": "markdown",
   "metadata": {},
   "source": [
    "## Getting input from the user\n",
    "\n",
    "* Most programs need to read input from the user\n",
    "* Built-in `input` function reads input from keyboard\n",
    "\n",
    "* For integers: `variable = int(input(\"Prompt\"))`\n",
    "* For ﬂoats: `variable = float(input(\"Prompt\"))`\n",
    "* For strings: `variable = input(\"Prompt\")`\n",
    "\n",
    "* The `Prompt` part must be a string that you would like displayed to the user that \"prompts\" them as to what the program is asking for."
   ]
  },
  {
   "cell_type": "code",
   "execution_count": null,
   "metadata": {},
   "outputs": [],
   "source": [
    "# Input examples.\n",
    "\n",
    "name = input(\"What is your name? \")\n",
    "age = int(input(\"How old are you? \"))\n",
    "print(\"Hi\", name)\n",
    "print(\"Right now you are\", age, \"years old and next year you will be\", age + 1)\n"
   ]
  },
  {
   "cell_type": "markdown",
   "metadata": {},
   "source": [
    "Modify your food program above to prompt the user for how many burgers and orders of fries they want, and print the total cost. Retest your code with the modfications you made."
   ]
  },
  {
   "cell_type": "markdown",
   "metadata": {},
   "source": [
    "#### Calculating the tip\n",
    "\n",
    "Write a short program (in the cell below) that will calculate the proper tip on a bill.\n",
    "* Prompt the user for the total cost of the bill.\n",
    "* Assume you are leaving an 18% tip. \n",
    "* Calculate the total tip for the bill.\n",
    "* Output the tip amount\n",
    "* If you’re done early, prompt the user for the tax rate, then use it to calculate the total cost of the bill with tax and tip."
   ]
  },
  {
   "cell_type": "code",
   "execution_count": null,
   "metadata": {},
   "outputs": [],
   "source": []
  },
  {
   "cell_type": "markdown",
   "metadata": {},
   "source": [
    "## String formatting\n",
    "\n",
    "Often, once we get the functionality of our program working, we want to go back and improve the user experience with our program. For instance, when I am first writing a program, I may simply type `print(x)` to verify that I'm getting the correct value for `x`. However, as a user of your program, I won't know what that output is actually referring to. Is it the value of x, or some other variable that's not related?\n",
    "\n",
    "You want to make it clear to the user exactly what you're outputting, and you may also want that output to look nice. This can include $ and rounding to 2 decimal places for monetary values, adding whitespace to make output look more tabular, or many other ways to make your output easier for the user to understand.\n",
    "\n",
    "Below are some examples of various formatting that one can use within a program.\n",
    "\n",
    "The first cell includes various methods for formatting strings.\n",
    "The second cell inclues various methods for formatting numbers.\n",
    "\n",
    "Read through the code in each cell and run them to understand what the output will look like."
   ]
  },
  {
   "cell_type": "code",
   "execution_count": null,
   "metadata": {},
   "outputs": [],
   "source": [
    "# Formatting Numbers\n",
    "\n",
    "# format is a built-in function that takes in 2 arguments\n",
    "# 1st argument is the value you want to format\n",
    "# 2nd argument is a string representing the format you would like\n",
    "\n",
    "# prints the decimal as a percentage (50%)\n",
    "print(format(0.5, '.0%'))   \n",
    "\n",
    "num = 234.5555555\n",
    "# rounds properly and prints out the decimal to 2 decimal places (234.56)\n",
    "print('Rounded the number is', format(num, '.2f'))                          "
   ]
  },
  {
   "cell_type": "markdown",
   "metadata": {},
   "source": [
    "The `print` function in python automatically assumes two things:\n",
    "* It assumes that you want each print statement to end with a newline character, so each output will be on a separate line.\n",
    "* It assumes that you want each item that you're printing to have a space between it and the next item, so `print` automatically puts spaces between each item you've separated by commas in the function call.\n",
    "\n",
    "The reason these things happen automatically is because the `print` function has 2 optional arguments with default values.\n",
    "* `end` argument has the default value of '\\n' (newline character).\n",
    "* `sep` argument has the default value of ' ' (space).\n",
    "\n",
    "Most of the time, Python's assumption is correct and you don't need to change these arguments. However, if you would like different functionality, here are some examples of how to do that. Run the cell to see how the changes affect the output."
   ]
  },
  {
   "cell_type": "code",
   "execution_count": null,
   "metadata": {},
   "outputs": [],
   "source": [
    "# end and sep arguments with print examples\n",
    "\n",
    "# below I've overwritten the end argument to be an empty string instead\n",
    "print(\"I want the next output to appear on this line too: \", end='')\n",
    "print(\"Hello world\")\n",
    "\n",
    "# below I've overwritten the sep argument to be an empty string instead\n",
    "# the sep='' removes the space between the $ and the value\n",
    "# properly formatted money example\n",
    "num = 123.4\n",
    "print(\"The total cost is $\", format(num, '.2f'), sep='')\n",
    "                                                        "
   ]
  },
  {
   "cell_type": "markdown",
   "metadata": {},
   "source": [
    "## Differences between the `print` and `input` functions\n",
    "\n",
    "The `print` function allows you to enter as many arguments as you'd like, of whatever data type you would like, all separated by a comma. If you want to output both text and variable/mathematical expression values, you can simply separate them with a comma.\n",
    "\n",
    "However, the `input` function only takes in 1 argument, and that argument must be a string! If you'd like to make the input prompt very specific, it can be helpful to allow the value of a variable to be output to the user as part of the prompt. Since we can only use 1 argument for the input function, we must concatenate (or add (+)) all the strings together that we want to output. See the \"using variables in your input prompt\" example below. "
   ]
  },
  {
   "cell_type": "code",
   "execution_count": null,
   "metadata": {},
   "outputs": [],
   "source": [
    "# Interacting with input and output examples\n",
    "\n",
    "# Getting a string as input  \n",
    "color = input(\"What is your favorite color? \")\n",
    "\n",
    "# Using the value that the user entered as output (using a variable)\n",
    "print(\"Your favorite color is\", color)\n",
    "\n",
    "# Getting an integer as input\n",
    "numPets = int(input(\"How many pets do you have? \"))\n",
    "\n",
    "# Using the user inputted value in a mathematical formula and outputting\n",
    "print(numPets*2)\n",
    "\n",
    "# Using variables in your input prompt\n",
    "numColor = int(input(\"How many of your \" + str(numPets) + \" pets are \" \\\n",
    "                     + color + \"? \")) \n",
    "\n",
    "# Using variables in your output\n",
    "print(numColor, \"of your\", numPets, \"pets are\", color)  "
   ]
  },
  {
   "cell_type": "code",
   "execution_count": null,
   "metadata": {},
   "outputs": [],
   "source": []
  }
 ],
 "metadata": {
  "kernelspec": {
   "display_name": "Python 3",
   "language": "python",
   "name": "python3"
  },
  "language_info": {
   "codemirror_mode": {
    "name": "ipython",
    "version": 3
   },
   "file_extension": ".py",
   "mimetype": "text/x-python",
   "name": "python",
   "nbconvert_exporter": "python",
   "pygments_lexer": "ipython3",
   "version": "3.8.6"
  }
 },
 "nbformat": 4,
 "nbformat_minor": 2
}
