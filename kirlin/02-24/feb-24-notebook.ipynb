{
 "cells": [
  {
   "cell_type": "markdown",
   "metadata": {},
   "source": [
    "## Lab 2 solutions"
   ]
  },
  {
   "cell_type": "code",
   "execution_count": null,
   "metadata": {},
   "outputs": [],
   "source": [
    "# Solution to lab 02 - Step 5\n",
    "from cs1.graphics import *\n",
    "\n",
    "# This function draws a bullseye centered at (x,y) with the colors and radius specified\n",
    "# Parameters: x, y are integers specifying the center of the bullseye, color1 and color2 are strings\n",
    "# with the names of colors, and radius is an integer specifying the size of the largest circle\n",
    "# Returns: None\n",
    "def draw_bullseye(x, y, color1, color2, radius):\n",
    "    set_color(color1)\n",
    "    draw_filled_circle(x, y, radius)\n",
    "    set_color(color2)\n",
    "    draw_filled_circle(x, y, radius * 0.8)\n",
    "    set_color(color1)\n",
    "    draw_filled_circle(x, y, radius * 0.6)\n",
    "    set_color(color2)\n",
    "    draw_filled_circle(x, y, radius * 0.4)\n",
    "    set_color(color1)\n",
    "    draw_filled_circle(x, y, radius * 0.2)\n",
    "\n",
    "def main():\n",
    "    open_canvas(500, 500)\n",
    "    draw_bullseye(200, 300, \"purple\", \"yellow\", 100)\n",
    "    draw_bullseye(350, 150, \"blue\", \"orange\", 75)\n",
    "\n",
    "main()\n"
   ]
  },
  {
   "cell_type": "code",
   "execution_count": null,
   "metadata": {},
   "outputs": [],
   "source": [
    "# Solution to lab 02 - Step 6\n",
    "from cs1.graphics import *\n",
    "\n",
    "# This function draws a bullseye centered at (x,y) with the colors and radius specified\n",
    "# Parameters: x, y are integers specifying the center of the bullseye, color1 and color2 are strings\n",
    "# with the names of colors, and radius is an integer specifying the size of the largest circle\n",
    "# Returns: None\n",
    "def draw_bullseye(x, y, color1, color2, radius):\n",
    "    set_color(color1)\n",
    "    draw_filled_circle(x, y, radius)\n",
    "    set_color(color2)\n",
    "    draw_filled_circle(x, y, radius * 0.8)\n",
    "    set_color(color1)\n",
    "    draw_filled_circle(x, y, radius * 0.6)\n",
    "    set_color(color2)\n",
    "    draw_filled_circle(x, y, radius * 0.4)\n",
    "    set_color(color1)\n",
    "    draw_filled_circle(x, y, radius * 0.2)\n",
    "\n",
    "def main():\n",
    "    open_canvas(500, 500)\n",
    "\n",
    "    x = int(input(\"X: \"))\n",
    "    y = int(input(\"Y: \"))\n",
    "    color1 = input(\"Color 1: \")\n",
    "    color2 = input(\"Color 2: \")\n",
    "\n",
    "    # You didn't have to get this as input from the user, but here is an example with it as input\n",
    "    radius = int(input(\"Radius: \"))\n",
    "\n",
    "    # Draws the head\n",
    "    draw_bullseye(x, y, color1, color2, radius)\n",
    "\n",
    "    # Draws the ears\n",
    "    draw_bullseye(x + radius, y - radius, color1, color2, radius*.5)\n",
    "    draw_bullseye(x - radius, y - radius, color1, color2, radius*.5)\n",
    "\n",
    "main()\n"
   ]
  },
  {
   "cell_type": "code",
   "execution_count": null,
   "metadata": {},
   "outputs": [],
   "source": [
    "# Solution to Lab 02 - Challenge Question Solutions\n",
    "from cs1.graphics import *\n",
    "\n",
    "# This function draws a filled square at (x,y) with the color and side length specified\n",
    "# Parameters: x, y are integers specifying the center of the square, square_color is a string\n",
    "# with the name of a color, and side_length is an integer specifying the size of square sides\n",
    "# Returns: None\n",
    "def draw_square(x_center, y_center, side_length, square_color):\n",
    "    set_color(square_color)\n",
    "    half_side = side_length / 2\n",
    "    x_corner = x_center - half_side\n",
    "    y_corner = y_center - half_side\n",
    "    draw_filled_rect(x_corner, y_corner, side_length, side_length)\n",
    "\n",
    "\n",
    "# This function draws nested squares centered at (x,y) with the colors and side length specified\n",
    "# Parameters: x, y are integers specifying the center of the nested squares, color1 and color2 are strings\n",
    "# with the names of colors, and side_length is an integer specifying the size of the largest square's sides\n",
    "# Returns: None\n",
    "def draw_nested_squares(x, y, color1, color2, side):\n",
    "    # outermost square\n",
    "    draw_square(x, y, side, color1)\n",
    "\n",
    "    # second square in\n",
    "    side = side * 4 / 5\n",
    "    draw_square(x, y, side, color2)\n",
    "\n",
    "    # mid-way square\n",
    "    side = side * 3 / 4\n",
    "    draw_square(x, y, side, color1) \n",
    "  \n",
    "    # second innermost square\n",
    "    side = side * 2 / 3\n",
    "    draw_square(x, y, side, color2)\n",
    "  \n",
    "    # innermost square\n",
    "    side = side * 1 / 2\n",
    "    draw_square(x, y, side, color1)\n",
    "\n",
    "def main():\n",
    "    open_canvas(500, 500)\n",
    "    \n",
    "    x = int(input(\"X: \"))\n",
    "    y = int(input(\"Y: \"))\n",
    "    color1 = input(\"Color 1: \")\n",
    "    color2 = input(\"Color 2: \")\n",
    "    side = int(input(\"Side Length: \"))\n",
    "\n",
    "    draw_nested_squares(x, y, color1, color2, side)\n",
    "\n",
    "main()"
   ]
  },
  {
   "cell_type": "markdown",
   "metadata": {
    "deletable": false,
    "editable": false,
    "run_control": {
     "frozen": true
    }
   },
   "source": [
    "#  Functions that return values\n",
    "\n"
   ]
  },
  {
   "cell_type": "markdown",
   "metadata": {
    "deletable": false,
    "editable": false,
    "run_control": {
     "frozen": true
    }
   },
   "source": [
    "* Pretend we’re computing grades for a class that has three homework assignments and three tests.  The final grade in the class is weighted so that 75% of the final grade is from the test average and 25% is from the homework average.\n",
    "\n",
    "* We’d like to write a program to use our average function to take the averages of the test and homework grades, and then weight those averages appropriately to compute a final course grade."
   ]
  },
  {
   "cell_type": "code",
   "execution_count": null,
   "metadata": {},
   "outputs": [],
   "source": [
    "def average(a, b, c):\n",
    "    avg = (a + b + c)/3\n",
    "    print(\"The average of your numbers is:\", avg)\n",
    "\n",
    "def main():\n",
    "    test1 = float(input(\"Give me the first test grade: \"))\n",
    "    test2 = float(input(\"Give me the second test grade: \"))\n",
    "    test3 = float(input(\"Give me the third test grade: \"))\n",
    "    \n",
    "    average(test1, test2, test3)\n",
    "    \n",
    "    hw1 = float(input(\"Give me the first HW grade: \"))\n",
    "    hw2 = float(input(\"Give me the second HW grade: \"))\n",
    "    hw3 = float(input(\"Give me the third HW grade: \"))\n",
    "    \n",
    "    average(hw1, hw2, hw3)\n",
    "    \n",
    "    # some code here to weight the test average by 0.75\n",
    "    # and the hw average by 0.25 and combine them.\n",
    "\n",
    "main()"
   ]
  },
  {
   "cell_type": "markdown",
   "metadata": {
    "deletable": false,
    "editable": false,
    "run_control": {
     "frozen": true
    }
   },
   "source": [
    "The example code above has the following issues: \n",
    "* `main` can't see the \"`avg`\" variable inside of `average` because `avg` is a local variable.\n",
    "* whenever we call `average`, a new `avg` variable is created and the old one is lost.  \n",
    "* Even if we could access `avg` from `main`, there's no way we could have both the homework and test `avg` values at the same time.\n",
    "\n",
    "\n",
    "__What we want to do is:__\n",
    "\n",
    "`final_grade = 0.75 * (avg from the first call to average) + 0.25 * (avg from the 2nd call)`"
   ]
  },
  {
   "attachments": {
    "image-2.png": {
     "image/png": "[encoded data removed]"
    }
   },
   "cell_type": "markdown",
   "metadata": {
    "deletable": false,
    "editable": false,
    "run_control": {
     "frozen": true
    }
   },
   "source": [
    "## Return values to the rescue!\n",
    "\n",
    "<font size=+2>\n",
    "<pre>\n",
    "def function(arg1, arg2, ...):\n",
    "   statement\n",
    "   statement\n",
    "   [ more statements if desired ]\n",
    "   <font color=red><B>return</b></font> <b><i>value</i></b>  \n",
    "</pre>\n",
    "</font>\n",
    "\n",
    "__Return statements__\n",
    "* When Python sees a line in a function beginning with \"`return`\" the function immediately ends, and the *value* is sent back to the calling function.\n",
    "* The return value can be a literal (string or number) or a local variable from the function.\n",
    "\n",
    "__What is this used for?__\n",
    "- *Return values* are used to get information *out* of a function.  Usually it is the \"answer\" to \n",
    "the problem that the function has solved.\n",
    "- Just how using *arguments and parameters* allows you to send information *into* a function, *return values* \n",
    "allow the opposite.\n",
    "\n",
    "![image-2.png](attachment:image-2.png)\n",
    "\n",
    "__Capturing the return value__\n",
    "\n",
    "* In the *calling function*, use an assignment statement to \"capture\" the return value (otherwise, it is lost forever).\n",
    "* Syntax: <font size=+1>`variable = function(...)`</font> \n",
    "* When Python sees a line like above, the function is called normally.  However, when the function ends and a value is \"sent back\" to the caller, the value is put into the variable you specify.\n",
    "\n"
   ]
  },
  {
   "cell_type": "code",
   "execution_count": null,
   "metadata": {},
   "outputs": [],
   "source": [
    "# Previous example fixed so it works now!\n",
    "\n",
    "def average(a, b, c):\n",
    "    avg = (a + b + c)/3\n",
    "    return avg  # Changed the print statement to a return statement\n",
    "\n",
    "def main():\n",
    "    test1 = float(input(\"Give me the first test grade: \"))\n",
    "    test2 = float(input(\"Give me the second test grade: \"))\n",
    "    test3 = float(input(\"Give me the third test grade: \"))\n",
    "    test_avg = average(test1, test2, test3)\n",
    "    print(\"Your test average is\", test_avg)\n",
    "    \n",
    "    hw1 = float(input(\"Give me the first HW grade: \"))\n",
    "    hw2 = float(input(\"Give me the second HW grade: \"))\n",
    "    hw3 = float(input(\"Give me the third HW grade: \"))\n",
    "    hw_avg = average(hw1, hw2, hw3)\n",
    "    print(\"Your homework average is\", hw_avg)\n",
    "\n",
    "    final_grade = 0.75 * test_avg + 0.25 * hw_avg\n",
    "    print(\"Your final grade is\", final_grade)\n",
    "\n",
    "main()\n"
   ]
  },
  {
   "cell_type": "markdown",
   "metadata": {
    "deletable": false,
    "editable": false,
    "run_control": {
     "frozen": true
    }
   },
   "source": [
    "In the above example, when you run the program the following happens:\n",
    "1. `main` calls `average`: values of the variables `test1`, `test2`, and `test3` (from `main`) are copied into parameters `a`, `b`, and `c` (in `average`).\n",
    "1. `average` returns the value of its local variable `avg` back to `main`, and that value is assigned to `test_avg`.\n",
    "1. `main` calls `average` a second time: values of the variables `hw1`, `hw2`, and `hw3` are copied into parameters `a`, `b`, and `c`.\n",
    "1. `average` (again) returns the value of its local variable `avg` back to `main`, and that value is assigned to `hw_avg`.\n",
    "1. Final calculation is done using the local variables `test_avg` and `hw_avg` (in `main`).\n"
   ]
  },
  {
   "cell_type": "markdown",
   "metadata": {
    "deletable": false,
    "editable": false,
    "run_control": {
     "frozen": true
    }
   },
   "source": [
    "__When writing functions, you should test them!__\n",
    "* Make sure they work in all kinds of situations.\n",
    "* Ex: Does `average()` work with negative numbers?  Floating point numbers?\n",
    "\n",
    "__You can test a function without having to write a separate `main` function.__\n",
    "* After the function definition, try writing a call to the function on a line by itself.\n",
    "* Without writing a main function, call your function multiple times and test it."
   ]
  },
  {
   "cell_type": "code",
   "execution_count": null,
   "metadata": {},
   "outputs": [],
   "source": [
    "def average(a, b, c):\n",
    "    avg = (a + b + c)/3\n",
    "    return avg  # Changed the print statement to a return statement\n",
    "\n",
    "average(-87, -60, 100)"
   ]
  },
  {
   "cell_type": "markdown",
   "metadata": {},
   "source": [
    "__You can also test a function multiple times using `print` statements.__\n"
   ]
  },
  {
   "cell_type": "code",
   "execution_count": null,
   "metadata": {},
   "outputs": [],
   "source": [
    "def average(a, b, c):\n",
    "    avg = (a + b + c)/3\n",
    "    return avg  # Changed the print statement to a return statement\n",
    "\n",
    "print(\"Test 1:\", average(-87, -60, 100))\n",
    "print(\"Test 2:\", average(9999, 2.5, 10))\n"
   ]
  },
  {
   "cell_type": "markdown",
   "metadata": {
    "deletable": false,
    "editable": false,
    "run_control": {
     "frozen": true
    }
   },
   "source": [
    "## In-class exercise\n",
    "\n",
    "Write a program that computes the annual household income for a family with 2 working adults.\n",
    "\n",
    "1. Fill in the `annual_income` function.  It takes parameters for a person's hourly wage (in dollars/hour) and their tax rate\n",
    "(you can assume this rate is given as a decimal, like 0.15 for 15%).  This function should return the person's\n",
    "total income for the year, after taxes are deducted.\n",
    "Assume they are paid for 40 hours/week, 52\n",
    "weeks/year.\n",
    "\n",
    "1. Write some tests for `annual_income`.  Put this testing code after the function definition.  Use either one of the testing strategies above.\n",
    "\n",
    "1. Now write a `main` function that will prompt the user for their and their partner's hourly wages, as well as the tax rate.\n",
    "\n",
    "1. Calculate the total income for each of the adults after taxes.\n",
    "\n",
    "1. Print the total household income."
   ]
  },
  {
   "cell_type": "code",
   "execution_count": null,
   "metadata": {},
   "outputs": [],
   "source": [
    "def annual_income(hourly_wage, tax_rate):\n",
    "    \n"
   ]
  },
  {
   "cell_type": "markdown",
   "metadata": {
    "deletable": false,
    "editable": false,
    "run_control": {
     "frozen": true
    }
   },
   "source": [
    "## Trace this code example\n",
    "Trace the following code by hand to determine the output. Run the code to verify your solution."
   ]
  },
  {
   "cell_type": "code",
   "execution_count": null,
   "metadata": {},
   "outputs": [],
   "source": [
    "def foo(x, y):\n",
    "    y = y + 1\n",
    "    x = 2 * (y + 3)\n",
    "    return x\n",
    "\n",
    "def main():\n",
    "    x = 5\n",
    "    y = 4\n",
    "    x = foo(x, y)\n",
    "    print(x, y)\n",
    "\n",
    "main()"
   ]
  },
  {
   "cell_type": "markdown",
   "metadata": {
    "deletable": false,
    "editable": false,
    "run_control": {
     "frozen": true
    }
   },
   "source": [
    "## Practice problems\n",
    "\n",
    "* Write a function called `area_of_circle` that takes in one float argument `radius`. This function should return the area of a circle with that radius.\n",
    "\n",
    "* Hint: $area= \\pi  𝑟^2$. You can use 3.14 for pi.\n",
    "\n",
    "* The def line will be: `def area_of_circle(radius):`"
   ]
  },
  {
   "cell_type": "code",
   "execution_count": null,
   "metadata": {},
   "outputs": [],
   "source": [
    "# Write your area of a circle function here.\n",
    "# Then write some tests for it.\n",
    "\n"
   ]
  },
  {
   "cell_type": "markdown",
   "metadata": {
    "deletable": false,
    "editable": false,
    "run_control": {
     "frozen": true
    }
   },
   "source": [
    "\n",
    "* Write a function called `direction` that takes two float arguments, `x` and `y`. Consider an arrow  on the Cartesian plane pointing from (0,0) to (x, y). This function should return the string \"NE\", \"SE\", \"SW\", or \"NW\" depending on the direction that the arrow points. \n",
    "* Assume `x` and `y` will never be 0. \n",
    "* The def line will be: `def direction(x, y):`"
   ]
  },
  {
   "cell_type": "code",
   "execution_count": null,
   "metadata": {},
   "outputs": [],
   "source": [
    "# Write your area of a circle function here.\n",
    "# Then write some tests for it.\n"
   ]
  },
  {
   "cell_type": "code",
   "execution_count": null,
   "metadata": {},
   "outputs": [],
   "source": []
  }
 ],
 "metadata": {
  "kernelspec": {
   "display_name": "Python 3",
   "language": "python",
   "name": "python3"
  },
  "language_info": {
   "codemirror_mode": {
    "name": "ipython",
    "version": 3
   },
   "file_extension": ".py",
   "mimetype": "text/x-python",
   "name": "python",
   "nbconvert_exporter": "python",
   "pygments_lexer": "ipython3",
   "version": "3.8.6"
  },
  "varInspector": {
   "cols": {
    "lenName": 16,
    "lenType": 16,
    "lenVar": 40
   },
   "kernels_config": {
    "python": {
     "delete_cmd_postfix": "",
     "delete_cmd_prefix": "del ",
     "library": "var_list.py",
     "varRefreshCmd": "print(var_dic_list())"
    },
    "r": {
     "delete_cmd_postfix": ") ",
     "delete_cmd_prefix": "rm(",
     "library": "var_list.r",
     "varRefreshCmd": "cat(var_dic_list()) "
    }
   },
   "types_to_exclude": [
    "module",
    "function",
    "builtin_function_or_method",
    "instance",
    "_Feature"
   ],
   "window_display": false
  }
 },
 "nbformat": 4,
 "nbformat_minor": 2
}
