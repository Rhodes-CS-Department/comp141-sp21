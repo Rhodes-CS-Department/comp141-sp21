{
 "cells": [
  {
   "cell_type": "markdown",
   "id": "unexpected-necklace",
   "metadata": {},
   "source": [
    "## Warmup\n",
    "\n",
    "For each of the following programs, draw a diagram illustrating the values of the variables and how they\n",
    "change when the program runs. Specifically, determine the value of the variable `x` at the end of `main()`.\n",
    "\n",
    "### Program 1:"
   ]
  },
  {
   "cell_type": "code",
   "execution_count": null,
   "id": "attempted-alexandria",
   "metadata": {},
   "outputs": [],
   "source": [
    "def func(a):\n",
    "    y = a + 5\n",
    "    return y\n",
    "\n",
    "def main():\n",
    "    z = 4\n",
    "    x = func(z)\n",
    "    \n",
    "main()"
   ]
  },
  {
   "cell_type": "markdown",
   "id": "challenging-graph",
   "metadata": {},
   "source": [
    "### Program 2:"
   ]
  },
  {
   "cell_type": "code",
   "execution_count": null,
   "id": "excess-parent",
   "metadata": {},
   "outputs": [],
   "source": [
    "def func(a, b):\n",
    "    c = a + b\n",
    "    if c > 10:\n",
    "        return c\n",
    "    else:\n",
    "        return c + 10\n",
    "    \n",
    "def func2(a, b):\n",
    "    b = b - 1\n",
    "    x = func(b, a)\n",
    "    return x * 2\n",
    "\n",
    "def main():\n",
    "    a = 6\n",
    "    b = 7\n",
    "    x = func2(a, b - 3)\n",
    "    \n",
    "main()"
   ]
  },
  {
   "cell_type": "markdown",
   "id": "intended-movie",
   "metadata": {},
   "source": [
    "## Solutions to practice problems\n",
    "\n",
    "* Write a function called `area_of_circle` that takes in one float argument `radius`. This function should return the area of a circle with that radius.\n",
    "\n",
    "* Hint: $area= \\pi  𝑟^2$. You can use 3.14 for pi.\n",
    "\n",
    "* The def line will be: `def area_of_circle(radius):`"
   ]
  },
  {
   "cell_type": "code",
   "execution_count": null,
   "id": "prescribed-assistant",
   "metadata": {},
   "outputs": [],
   "source": [
    "# Write your area of a circle function here.\n",
    "# Then write some tests for it.\n",
    "\n",
    "def area_of_circle(radius):\n",
    "    area = 3.14 * radius**2\n",
    "    return area\n",
    "\n",
    "print(\"Test 1:\", area_of_circle(1))   # should be 3.14\n",
    "print(\"Test 2:\", area_of_circle(2))   # should be 12.56"
   ]
  },
  {
   "cell_type": "markdown",
   "id": "periodic-gambling",
   "metadata": {},
   "source": [
    "\n",
    "* Write a function called `direction` that takes two float arguments, `x` and `y`. Consider an arrow  on the Cartesian plane pointing from (0,0) to (x, y). This function should return the string \"NE\", \"SE\", \"SW\", or \"NW\" depending on the direction that the arrow points. \n",
    "* Assume `x` and `y` will never be 0. \n",
    "* The def line will be: `def direction(x, y):`"
   ]
  },
  {
   "cell_type": "code",
   "execution_count": null,
   "id": "nutritional-abortion",
   "metadata": {},
   "outputs": [],
   "source": [
    "# Write your direction function here.\n",
    "# Then write some tests for it.\n",
    "\n",
    "def direction(x, y):\n",
    "    if x > 0 and y > 0:\n",
    "        return \"NE\"\n",
    "    elif x > 0 and y < 0:\n",
    "        return \"SE\"\n",
    "    elif x < 0 and y > 0:\n",
    "        return \"NW\"\n",
    "    else:\n",
    "        return \"SW\"\n",
    "    \n",
    "print(\"Test northeast:\", direction(1, 2))\n",
    "print(\"Test southeast:\", direction(10, -29))\n",
    "print(\"Test northwest:\", direction(-34.1, 95))\n",
    "print(\"Test southwest:\", direction(-0.001, -99999))"
   ]
  },
  {
   "cell_type": "code",
   "execution_count": null,
   "id": "prime-advantage",
   "metadata": {},
   "outputs": [],
   "source": [
    "# Another solution:\n",
    "def direction2(x, y):\n",
    "    if x > 0:\n",
    "        if y > 0:\n",
    "            return \"NE\"\n",
    "        else:\n",
    "            return \"SE\"\n",
    "    else:\n",
    "        if y > 0:\n",
    "            return \"NW\"\n",
    "        else:\n",
    "            return \"SW\"\n",
    "        \n",
    "print(\"Test northeast:\", direction(1, 2))\n",
    "print(\"Test southeast:\", direction(10, -29))\n",
    "print(\"Test northwest:\", direction(-34.1, 95))\n",
    "print(\"Test southwest:\", direction(-0.001, -99999))"
   ]
  },
  {
   "cell_type": "code",
   "execution_count": null,
   "id": "aging-truth",
   "metadata": {},
   "outputs": [],
   "source": []
  }
 ],
 "metadata": {
  "kernelspec": {
   "display_name": "Python 3",
   "language": "python",
   "name": "python3"
  },
  "language_info": {
   "codemirror_mode": {
    "name": "ipython",
    "version": 3
   },
   "file_extension": ".py",
   "mimetype": "text/x-python",
   "name": "python",
   "nbconvert_exporter": "python",
   "pygments_lexer": "ipython3",
   "version": "3.8.6"
  },
  "varInspector": {
   "cols": {
    "lenName": 16,
    "lenType": 16,
    "lenVar": 40
   },
   "kernels_config": {
    "python": {
     "delete_cmd_postfix": "",
     "delete_cmd_prefix": "del ",
     "library": "var_list.py",
     "varRefreshCmd": "print(var_dic_list())"
    },
    "r": {
     "delete_cmd_postfix": ") ",
     "delete_cmd_prefix": "rm(",
     "library": "var_list.r",
     "varRefreshCmd": "cat(var_dic_list()) "
    }
   },
   "types_to_exclude": [
    "module",
    "function",
    "builtin_function_or_method",
    "instance",
    "_Feature"
   ],
   "window_display": false
  }
 },
 "nbformat": 4,
 "nbformat_minor": 5
}
