{
 "cells": [
  {
   "cell_type": "markdown",
   "id": "plain-custody",
   "metadata": {
    "deletable": false,
    "editable": false,
    "run_control": {
     "frozen": true
    }
   },
   "source": [
    "## From last time\n",
    "\n",
    "A. Write a loop to print the multiples of 3 (between 3 and 60, inclusive).\n",
    "\n"
   ]
  },
  {
   "cell_type": "code",
   "execution_count": null,
   "id": "inappropriate-elephant",
   "metadata": {},
   "outputs": [],
   "source": [
    "# Solution:\n",
    "\n",
    "def main():\n",
    "    ctr = 3\n",
    "    while ctr < 61:\n",
    "        print(ctr)\n",
    "        ctr += 3\n",
    "        \n",
    "main()"
   ]
  },
  {
   "cell_type": "markdown",
   "id": "ultimate-heading",
   "metadata": {
    "deletable": false,
    "editable": false,
    "run_control": {
     "frozen": true
    }
   },
   "source": [
    "B. Write a loop to print the multiples of 5 (between 5 and 60, inclusive)."
   ]
  },
  {
   "cell_type": "code",
   "execution_count": null,
   "id": "spiritual-twelve",
   "metadata": {},
   "outputs": [],
   "source": [
    "def main():\n",
    "    ctr = 5\n",
    "    while ctr < 61:\n",
    "        print(ctr)\n",
    "        ctr += 5\n",
    "        \n",
    "main()"
   ]
  },
  {
   "cell_type": "markdown",
   "id": "respected-vehicle",
   "metadata": {
    "deletable": false,
    "editable": false,
    "run_control": {
     "frozen": true
    }
   },
   "source": [
    "C. Write a loop to print all numbers that are multiples of 3 or 5 (between 3 and 60, inclusive)."
   ]
  },
  {
   "cell_type": "code",
   "execution_count": null,
   "id": "photographic-twist",
   "metadata": {},
   "outputs": [],
   "source": [
    "# Code here:\n",
    "\n"
   ]
  },
  {
   "cell_type": "markdown",
   "id": "selective-expansion",
   "metadata": {
    "deletable": false,
    "editable": false,
    "run_control": {
     "frozen": true
    }
   },
   "source": [
    "D. Write a loop to print the numbers from 1 to 30, each labeled with the word \"even\" or \"odd\" depending on the number.\n"
   ]
  },
  {
   "cell_type": "code",
   "execution_count": null,
   "id": "thousand-vinyl",
   "metadata": {},
   "outputs": [],
   "source": [
    "# Code here:\n",
    "\n"
   ]
  },
  {
   "cell_type": "markdown",
   "id": "disabled-gibson",
   "metadata": {
    "deletable": false,
    "editable": false,
    "run_control": {
     "frozen": true
    }
   },
   "source": [
    "\n",
    "E. Write a loop to print the numbers from 1 to 30, each labeled with whether the number is divisible by 3, by 5, by both 3 and 5, or neither 3 nor 5."
   ]
  },
  {
   "cell_type": "code",
   "execution_count": null,
   "id": "infrared-cameroon",
   "metadata": {},
   "outputs": [],
   "source": [
    "# Code here:\n",
    "\n"
   ]
  },
  {
   "cell_type": "markdown",
   "id": "dominican-repeat",
   "metadata": {
    "deletable": false,
    "editable": false,
    "run_control": {
     "frozen": true
    }
   },
   "source": [
    "# `for` loops\n",
    "\n",
    "- A `for` loop is another way of writing a loop that counts.  \n",
    "\n",
    "- When you need a loop that counts, `for` loops are more common, but they are less flexible than `while` loops because\n",
    "they can only count in certain ways.\n",
    "\n",
    "- Recall the syntax of a `while` loop that counts:\n",
    "\n",
    "<font size=+1>\n",
    "<pre>\n",
    "ctr = <i>starting_value</i>\n",
    "<b><font color=red>while</font></b> ctr &lt; <i>ending_value</i>:\n",
    "    # do stuff here\n",
    "    ctr = ctr + <i>increment</i>\n",
    "</pre>    \n",
    "</font>\n",
    "\n",
    "This is equivalent to the following `for` loop syntax:\n",
    "\n",
    "<font size=+1>\n",
    "<pre>\n",
    "<b><font color=red>for</font></b> ctr in <b><font color=red>range</font></b>(<i>starting_value</i>, <i>ending_value</i>, <i>increment</i>):\n",
    "    # do stuff here\n",
    "</pre>    \n",
    "</font>\n",
    "\n",
    "Just like a `while` loop, in a `for` loop, the name  of the counter variable is not important."
   ]
  },
  {
   "cell_type": "code",
   "execution_count": null,
   "id": "weighted-acting",
   "metadata": {},
   "outputs": [],
   "source": [
    "# First example: a loop that counts from 1 to 10, written two different ways:\n",
    "\n",
    "def main():\n",
    "    print(\"With a while loop:\")\n",
    "    ctr = 1\n",
    "    while ctr < 11:\n",
    "        print(ctr)\n",
    "        ctr += 1\n",
    "        \n",
    "    print(\"With a for loop:\")\n",
    "    for ctr in range(1, 11, 1):\n",
    "        print(ctr)\n",
    "        \n",
    "main()"
   ]
  },
  {
   "cell_type": "code",
   "execution_count": null,
   "id": "indoor-satin",
   "metadata": {},
   "outputs": [],
   "source": [
    "# Second example: multiples of 5:\n",
    "\n",
    "def main():\n",
    "    print(\"With a while loop:\")\n",
    "    ctr = 5\n",
    "    while ctr < 61:\n",
    "        print(ctr)\n",
    "        ctr += 5\n",
    "        \n",
    "    print(\"With a for loop:\")\n",
    "    for ctr in range(5, 61, 5):\n",
    "        print(ctr)\n",
    "        \n",
    "main()"
   ]
  },
  {
   "cell_type": "code",
   "execution_count": null,
   "id": "noticed-chocolate",
   "metadata": {},
   "outputs": [],
   "source": [
    "# Third example: counting down from 10 to 1 (inclusive):\n",
    "\n",
    "def main():\n",
    "    print(\"With a while loop:\")\n",
    "    ctr = 10\n",
    "    while ctr >= 1:\n",
    "        print(ctr)\n",
    "        ctr -= 1\n",
    "        \n",
    "    # Fill this in below:\n",
    "        \n",
    "    print(\"With a for loop:\")\n",
    "    for ctr in range(?, ?, ?):\n",
    "        print(ctr)\n",
    "        \n",
    "main()"
   ]
  },
  {
   "cell_type": "markdown",
   "id": "vietnamese-produce",
   "metadata": {
    "deletable": false,
    "editable": false,
    "run_control": {
     "frozen": true
    }
   },
   "source": [
    "### Restrictions on for loops\n",
    "\n",
    "- **Most** counting can be done with `for` loops, and is preferable to a `while` loop for counting.\n",
    "\n",
    "- The exception is if your counting pattern cannot be expressed with the `range` function.  Most common when:\n",
    "    - The counting increment uses multiplication or division\n",
    "    - The counting increment in your loop is not fixed (for example, sometimes you count by 2's and sometimes by 3's in the same loop).\n",
    "    - The stopping condition is not a simple upper bound."
   ]
  },
  {
   "cell_type": "code",
   "execution_count": null,
   "id": "antique-stadium",
   "metadata": {},
   "outputs": [],
   "source": [
    "# Loops that cannot be written as for loops (at least as simply as they are here):\n",
    "\n",
    "def main():\n",
    "    print(\"Powers of 2 less than 100:\")\n",
    "    ctr = 1\n",
    "    while ctr < 100:\n",
    "        print(ctr)\n",
    "        ctr *= 2\n",
    "\n",
    "    print(\"Counting sometimes by 2's and sometimes by 3's:\")\n",
    "    ctr = 1\n",
    "    while ctr < 20:\n",
    "        print(ctr)\n",
    "        if ctr < 10:\n",
    "            ctr += 2\n",
    "        else:\n",
    "            ctr += 3\n",
    "            \n",
    "    print(\"Count by 3's until you find a multiple of 10\")\n",
    "    ctr = 1\n",
    "    while ctr % 10 != 0:\n",
    "        print(ctr)\n",
    "        ctr += 3\n",
    "    \n",
    "main()\n"
   ]
  },
  {
   "cell_type": "markdown",
   "id": "micro-girlfriend",
   "metadata": {
    "deletable": false,
    "editable": false,
    "run_control": {
     "frozen": true
    }
   },
   "source": [
    "## Class practice\n",
    "\n",
    "Write the following loops using `for` loops:\n",
    "   \n",
    "1. Write a loop that prints all the divisors of 30 (numbers that divide into 30 evenly). \n",
    "\n",
    "*Hint:* \n",
    "Your code should print out the following: 1, 2, 3, 5, 6, 10, 15, 30.  *Hint 2:* Use the remainder operator.\n",
    "    "
   ]
  },
  {
   "cell_type": "code",
   "execution_count": null,
   "id": "motivated-friday",
   "metadata": {},
   "outputs": [],
   "source": [
    "# Code here:\n",
    "\n"
   ]
  },
  {
   "cell_type": "markdown",
   "id": "dangerous-comfort",
   "metadata": {
    "deletable": false,
    "editable": false,
    "run_control": {
     "frozen": true
    }
   },
   "source": [
    "2. Next, modify this loop (copy what you wrote above into the cell below) to print out all common divisors of 30 *and* 50.\n",
    "\n",
    "*Hint*: your code should print out 1, 2, 5, 10."
   ]
  },
  {
   "cell_type": "code",
   "execution_count": null,
   "id": "played-sheffield",
   "metadata": {},
   "outputs": [],
   "source": [
    "# Code here:\n",
    "\n"
   ]
  },
  {
   "cell_type": "markdown",
   "id": "planned-static",
   "metadata": {
    "deletable": false,
    "editable": false,
    "run_control": {
     "frozen": true
    }
   },
   "source": [
    "3. Copy your solution above into the cell below, then modify the code to let the user input any 2 integers and print out the common divisors of these 2 integers."
   ]
  },
  {
   "cell_type": "code",
   "execution_count": null,
   "id": "increased-patch",
   "metadata": {},
   "outputs": [],
   "source": [
    "# Code here:\n",
    "\n"
   ]
  },
  {
   "cell_type": "markdown",
   "id": "small-vocabulary",
   "metadata": {
    "deletable": false,
    "editable": false,
    "run_control": {
     "frozen": true
    }
   },
   "source": [
    "4. Copy your solution above into the cell below, then modify your code so it only prints out the **largest** of the common divisors of the two numbers the user types in.  You now have an algorithm for calculating the GCD, or *greatest\n",
    "common divisor* of two numbers.  You may remember that this idea is useful, for instance, in reducing fractions to lowest terms.  **Challenge**:  Turn (part of) your code into a `gcd` function that takes two numbers as parameters, and returns the greatest common divisor of those numbers."
   ]
  },
  {
   "cell_type": "code",
   "execution_count": null,
   "id": "laughing-shock",
   "metadata": {},
   "outputs": [],
   "source": [
    "# Code here:\n",
    "\n"
   ]
  },
  {
   "cell_type": "markdown",
   "id": "intense-helena",
   "metadata": {
    "deletable": false,
    "editable": false,
    "run_control": {
     "frozen": true
    }
   },
   "source": [
    "5. Below, you are given a function that converts Fahrenheit temperatures to Celsius temperatures.  Without changing the `f_to_c` definition, write a `main()` function that uses a `for` loop to count\n",
    "from -40 to 100 by 10s. Your counter variable here will represent a Fahrenheit temperature. Inside the `for` loop, call `f_to_c` on the counter variable (the Fahrenheit temperature) and capture the return value that comes back (the Celsius temperature). Print both temperatures on the same line (as shown below), in one `print` statement. The effect of this will be a table of temperatures showing Fahrenheit and Celsius:\n",
    "\n",
    "```\n",
    "-40 F = -40 C\n",
    "-30 F = -34.4444 C \n",
    "-20 F = -28.8889 C \n",
    "  ...(etc)...\n",
    "100 F = 37.7778 C\n",
    "```\n",
    "Do not worry about rounding your output."
   ]
  },
  {
   "cell_type": "code",
   "execution_count": null,
   "id": "welsh-dining",
   "metadata": {},
   "outputs": [],
   "source": [
    "def f_to_c(degrees_f):\n",
    "    degrees_c = (degrees_f - 32) * 5/9\n",
    "    return degrees_c\n",
    "\n",
    "def main():\n",
    "    # Your code here.\n",
    "    \n",
    "main()"
   ]
  },
  {
   "cell_type": "markdown",
   "id": "secret-slope",
   "metadata": {
    "deletable": false,
    "editable": false,
    "run_control": {
     "frozen": true
    }
   },
   "source": [
    "6. So far, the temperature program has no `input` statements. \n",
    "Copy your code from above into the cell below, then add `input` statements to your `main` function so the user can enter the low temperature to start at, the high temperature to finish at, and the degrees increment."
   ]
  },
  {
   "cell_type": "code",
   "execution_count": null,
   "id": "computational-dublin",
   "metadata": {},
   "outputs": [],
   "source": [
    "# Code here:\n",
    "\n"
   ]
  },
  {
   "cell_type": "code",
   "execution_count": null,
   "id": "operating-mailman",
   "metadata": {},
   "outputs": [],
   "source": []
  }
 ],
 "metadata": {
  "kernelspec": {
   "display_name": "Python 3",
   "language": "python",
   "name": "python3"
  },
  "language_info": {
   "codemirror_mode": {
    "name": "ipython",
    "version": 3
   },
   "file_extension": ".py",
   "mimetype": "text/x-python",
   "name": "python",
   "nbconvert_exporter": "python",
   "pygments_lexer": "ipython3",
   "version": "3.8.6"
  },
  "varInspector": {
   "cols": {
    "lenName": 16,
    "lenType": 16,
    "lenVar": 40
   },
   "kernels_config": {
    "python": {
     "delete_cmd_postfix": "",
     "delete_cmd_prefix": "del ",
     "library": "var_list.py",
     "varRefreshCmd": "print(var_dic_list())"
    },
    "r": {
     "delete_cmd_postfix": ") ",
     "delete_cmd_prefix": "rm(",
     "library": "var_list.r",
     "varRefreshCmd": "cat(var_dic_list()) "
    }
   },
   "types_to_exclude": [
    "module",
    "function",
    "builtin_function_or_method",
    "instance",
    "_Feature"
   ],
   "window_display": false
  }
 },
 "nbformat": 4,
 "nbformat_minor": 5
}
