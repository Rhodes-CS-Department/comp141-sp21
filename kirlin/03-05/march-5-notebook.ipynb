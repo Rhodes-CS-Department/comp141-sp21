{
 "cells": [
  {
   "cell_type": "markdown",
   "id": "sudden-wholesale",
   "metadata": {},
   "source": [
    "## From last time:\n",
    "\n",
    "* A `while` loop repeats a section of code **as long as a condition is true**.\n",
    "\n",
    "```python\n",
    "while condition:\n",
    "    statement\n",
    "    statement\n",
    "    etc...\n",
    "more statements...\n",
    "```\n",
    "\n",
    "* Python checks the `condition`.  If it is true, the *body of the loop* is run.  The `condition` \n",
    "is checked again, and if it is still true, the body is run again.  This cycle repeats until the \n",
    "`condition` becomes false.\n",
    "\n",
    "## There are many different ways to use a `while` loop\n",
    "\n",
    "The style we learned the other day is sometimes called a \"keep going\" loop or a \"manually-controlled\" loop\n",
    "because the user has to explicitly type each time through the loop whether we they want to keep going or stop.\n"
   ]
  },
  {
   "cell_type": "code",
   "execution_count": null,
   "id": "opponent-supervision",
   "metadata": {},
   "outputs": [],
   "source": [
    "# \"keep going\" loop example:\n",
    "\n",
    "def main():\n",
    "    \n",
    "    # Set up a variable to control the loop:\n",
    "    keep_going = \"yes\"\n",
    "\n",
    "    # Keep the loop going as long as the variable is 'yes'\n",
    "    while keep_going == \"yes\":\n",
    "    \n",
    "        pet1 = input(\"What is the first pet's name? \")\n",
    "        pet2 = input(\"What is the second pet's name? \")\n",
    "        if pet1 < pet2:\n",
    "            print(pet1, \"comes first in the alphabet.\")\n",
    "        else:\n",
    "            print(pet2, \"comes first in the alphabet.\")\n",
    "            \n",
    "        # Ask the user if they want to keep going.\n",
    "        keep_going = input(\"Do you want this loop to keep going? \")\n",
    "        \n",
    "main()"
   ]
  },
  {
   "cell_type": "markdown",
   "id": "listed-ozone",
   "metadata": {},
   "source": [
    "## What about other ways to write `while` loops?\n",
    "\n",
    "It's sometimes easier to use other ways to have the program determine when the loop ends, rather than having the user\n",
    "answer that question over andn over.\n",
    "\n",
    "### How could we change this program so the loop automatically stops when the user types \"STOP\" for the first pet name?  \n",
    "\n",
    "In other words, the question \"Do you want to keep going?\" shouldn't need to be asked."
   ]
  },
  {
   "cell_type": "code",
   "execution_count": null,
   "id": "derived-brazil",
   "metadata": {},
   "outputs": [],
   "source": [
    "# Modify as a class.\n",
    "\n",
    "def main():\n",
    "    \n",
    "    # Set up a variable to control the loop:\n",
    "    keep_going = \"yes\"\n",
    "\n",
    "    # Keep the loop going as long as the variable is 'yes'\n",
    "    while keep_going == \"yes\":\n",
    "    \n",
    "        pet1 = input(\"What is the first pet's name? \")\n",
    "        pet2 = input(\"What is the second pet's name? \")\n",
    "        if pet1 < pet2:\n",
    "            print(pet1, \"comes first in the alphabet.\")\n",
    "        else:\n",
    "            print(pet2, \"comes first in the alphabet.\")\n",
    "            \n",
    "        # Ask the user if they want to keep going.\n",
    "        keep_going = input(\"Do you want this loop to keep going? \")\n",
    "        \n",
    "main()"
   ]
  },
  {
   "cell_type": "code",
   "execution_count": null,
   "id": "accepting-raleigh",
   "metadata": {},
   "outputs": [],
   "source": [
    "# Space for more examples.\n"
   ]
  },
  {
   "cell_type": "code",
   "execution_count": null,
   "id": "revised-undergraduate",
   "metadata": {},
   "outputs": [],
   "source": [
    "# Space for more examples.\n"
   ]
  },
  {
   "cell_type": "code",
   "execution_count": null,
   "id": "express-vampire",
   "metadata": {},
   "outputs": [],
   "source": [
    "# Space for more examples.\n"
   ]
  },
  {
   "cell_type": "markdown",
   "id": "active-groove",
   "metadata": {},
   "source": [
    "## You try it!\n",
    "\n",
    "Write a program below that uses a loop to repeatedly ask the user to type in an integer from the keyboard.  Stop the loop when\n",
    "the number is between 1 and 10, inclusive."
   ]
  },
  {
   "cell_type": "code",
   "execution_count": null,
   "id": "civic-finish",
   "metadata": {},
   "outputs": [],
   "source": [
    "# Type your program here.\n"
   ]
  },
  {
   "cell_type": "markdown",
   "id": "designed-merchant",
   "metadata": {},
   "source": [
    "## Pseudocode\n",
    "\n",
    "**Pseudocode** is a way of writing algorithms that is intended for humans to read, rather than computers.\n",
    "\n",
    "It is usually used when you are planning out a computer program, and you want to get your ideas down on paper quickly without worrying about the details.\n",
    "\n",
    "Illustrates the logic of an algorithm, but omits details that people can fill in automatically.\n",
    "\n",
    "It often looks like a blend of English (or some other natural language) and a programming language.\n",
    "\n",
    "### Examples\n",
    "\n",
    "On paper, instead of writing\n",
    "```python\n",
    "name = input(\"What is your name? \")\n",
    "```\n",
    "you might write this in pseudocode as\n",
    "\n",
    "```\n",
    "name = ask user for name\n",
    "```\n",
    "\n",
    "or even just \n",
    "\n",
    "```\n",
    "prompt for name\n",
    "```\n",
    "\n",
    "Instead of writing\n",
    "```python\n",
    "if x >= 0 and x <= 100: \n",
    "    print(\"{0.2f}\".format(x))\n",
    "```\n",
    "you might write this in pseudocode as\n",
    "\n",
    "```\n",
    "if x is between 0 and 100:\n",
    "    print x to two decimal places\n",
    "```\n",
    "\n",
    "The point is to get your ideas down on paper quickly, and when you start writing the real code on a computer, you will fill in the details and the exact syntax later."
   ]
  },
  {
   "cell_type": "markdown",
   "id": "arctic-parent",
   "metadata": {},
   "source": [
    "## Writing loops with pseudocode\n",
    "\n",
    "(See separate illustration.)"
   ]
  },
  {
   "cell_type": "code",
   "execution_count": null,
   "id": "brutal-cleveland",
   "metadata": {},
   "outputs": [],
   "source": [
    "# Space for examples.\n"
   ]
  },
  {
   "cell_type": "code",
   "execution_count": null,
   "id": "lonely-lightweight",
   "metadata": {},
   "outputs": [],
   "source": [
    "# Space for examples.\n"
   ]
  },
  {
   "cell_type": "code",
   "execution_count": null,
   "id": "ranking-texas",
   "metadata": {},
   "outputs": [],
   "source": [
    "# Space for examples.\n"
   ]
  },
  {
   "cell_type": "code",
   "execution_count": null,
   "id": "arabic-omaha",
   "metadata": {},
   "outputs": [],
   "source": [
    "# Space for examples.\n"
   ]
  },
  {
   "cell_type": "markdown",
   "id": "north-charm",
   "metadata": {},
   "source": [
    "## Generating random numbers\n",
    "\n",
    "* Random numbers are useful in a lot of programming tasks.  They are used whenever a program needs to add\n",
    "some sort of \"randomness\" to a program, such as in a game or real-world simulation.\n",
    "\n",
    "* The function to produce a random number is called `randint` (random integer), and it lives in the `random` \n",
    "library in Python.\n",
    "\n",
    "* To use the function, you have to put `import random` at the top of your code, then you may call:\n",
    "\n",
    "```python\n",
    "number = random.randint(low, high)\n",
    "```\n",
    "where `low` and `high` are the upper and lower bounds on the random number you want to generate."
   ]
  },
  {
   "cell_type": "code",
   "execution_count": null,
   "id": "negative-integrity",
   "metadata": {},
   "outputs": [],
   "source": [
    "# Using random numbers example\n",
    "# This program displays a random number between 1 and 10 (inclusive)\n",
    "\n",
    "import random\n",
    "\n",
    "def main():\n",
    "    # Get a random number\n",
    "    number = random.randint(1, 10)\n",
    "    \n",
    "    print(\"The number is\", number)\n",
    "\n",
    "main()"
   ]
  },
  {
   "cell_type": "markdown",
   "id": "optical-palace",
   "metadata": {},
   "source": [
    "## Class practice\n",
    "\n",
    "Your task is to write a \"guess the number\" game.  First write out the algorithm using pseudocode, with the loop\n",
    "idea from earlier (write the pseudocode in a circle, and use that to help write the loop).\n",
    "\n",
    "Then convert your pseudocode into Python."
   ]
  },
  {
   "cell_type": "markdown",
   "id": "trying-hopkins",
   "metadata": {},
   "source": [
    "Write your pseudocode here, or on a separate sheet of paper.\n",
    "\n"
   ]
  },
  {
   "cell_type": "code",
   "execution_count": null,
   "id": "frank-matter",
   "metadata": {},
   "outputs": [],
   "source": [
    "# Write your Python code here.\n"
   ]
  },
  {
   "cell_type": "markdown",
   "id": "superior-links",
   "metadata": {},
   "source": [
    "## More practice\n",
    "\n",
    "Try these problems:\n",
    "\n",
    "1. Write\ta\tprogram\tso\tthe user\tmay\tenter\tintegers\tfrom\tthe\tkeyboard\tover\tand\tover,\tin\ta\tloop.\t\tStop looping when \twhen\tthey\ttype\tin\ta\tnumber\tbetween\t1\tand\t10.\n",
    "\n",
    "  a. Change\tthe\tprogram\tso\tthe\tnumber\tbetween\t1\tand\t10\tthat\tends\tthe\tloop\tisn't\tprinted.\t\t(If\tyour\tfirst\tprogram\tdidn’t\tprint\tthe\tnumber,\tthen\tmake\tit\tbe\tprinted\tinstead).\n",
    "\n",
    "  b. Change\tthe\tprogram\tso\tthe\tloop\tends\twhen\tthe\tnumber\tis\teven.<P>\n",
    "\n",
    "2. Write\ta\tprogram\tthat\tasks\tthe\tuser\tto\ttype\tin\ttwo\tintegers,\tover\tand\tover\tagain.\t\tPrint\tthe\tsum\tof\tthe\ttwo\tintegers.\t\tMake\tthe\tloop\tstop\twhen\tthe\tsecond\tinteger\tis\tless\tthan\tzero\t(and\tdon’t\tprint\tthe\tsum\tin\tthis\tcase).\n",
    "\n",
    "    a. Change\tthe\tloop\tso\tthe\tsum\tis\tprinted\twhen\tthe\tsecond\tinteger\tis\tless\tthan\tzero.\t\t\n",
    "\n",
    "    b. Make\tthe\tloop\tstop\twhen\tthe\tsum\tof\tthe\ttwo\tintegers\tis\todd.\t\t(try\tit\tboth\twith\tprinting\tthe\tsum\tand\tnot\tprinting).\n",
    "\n",
    "    c. Make\tthe\tloop\tstop\twhen\tthe\tfirst\tinteger\tis\tless\tthan\tzero\t(and\tthen\tdon’t\task\tfor\tthe\tsecond\tone)."
   ]
  },
  {
   "cell_type": "code",
   "execution_count": null,
   "id": "hired-blackjack",
   "metadata": {},
   "outputs": [],
   "source": [
    "# Practice space.\n"
   ]
  },
  {
   "cell_type": "code",
   "execution_count": null,
   "id": "great-insulin",
   "metadata": {},
   "outputs": [],
   "source": [
    "# Practice space.\n"
   ]
  },
  {
   "cell_type": "code",
   "execution_count": null,
   "id": "saved-rates",
   "metadata": {},
   "outputs": [],
   "source": [
    "# Practice space.\n"
   ]
  }
 ],
 "metadata": {
  "kernelspec": {
   "display_name": "Python 3",
   "language": "python",
   "name": "python3"
  },
  "language_info": {
   "codemirror_mode": {
    "name": "ipython",
    "version": 3
   },
   "file_extension": ".py",
   "mimetype": "text/x-python",
   "name": "python",
   "nbconvert_exporter": "python",
   "pygments_lexer": "ipython3",
   "version": "3.8.6"
  },
  "varInspector": {
   "cols": {
    "lenName": 16,
    "lenType": 16,
    "lenVar": 40
   },
   "kernels_config": {
    "python": {
     "delete_cmd_postfix": "",
     "delete_cmd_prefix": "del ",
     "library": "var_list.py",
     "varRefreshCmd": "print(var_dic_list())"
    },
    "r": {
     "delete_cmd_postfix": ") ",
     "delete_cmd_prefix": "rm(",
     "library": "var_list.r",
     "varRefreshCmd": "cat(var_dic_list()) "
    }
   },
   "types_to_exclude": [
    "module",
    "function",
    "builtin_function_or_method",
    "instance",
    "_Feature"
   ],
   "window_display": false
  }
 },
 "nbformat": 4,
 "nbformat_minor": 5
}
