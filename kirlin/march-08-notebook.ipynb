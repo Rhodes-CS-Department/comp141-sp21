{
 "cells": [
  {
   "cell_type": "markdown",
   "id": "challenging-roommate",
   "metadata": {
    "deletable": false,
    "editable": false,
    "run_control": {
     "frozen": true
    }
   },
   "source": [
    "## From last time:\n",
    "\n",
    "\n",
    "### Generating random numbers\n",
    "\n",
    "* To use the function, you have to put `import random` at the top of your code, then you may call:\n",
    "\n",
    "```python\n",
    "number = random.randint(low, high)\n",
    "```\n",
    "where `low` and `high` are the upper and lower bounds on the random number you want to generate.\n",
    "\n",
    "### Write a program to play a guess the number game\n",
    "\n",
    "Your task is to write a \"guess the number\" game.  First write out the algorithm using pseudocode, with the loop\n",
    "idea from earlier (write the pseudocode in a circle, and use that to help write the loop).\n",
    "\n",
    "Then convert your pseudocode into Python.\n"
   ]
  },
  {
   "cell_type": "code",
   "execution_count": null,
   "id": "inner-accused",
   "metadata": {},
   "outputs": [],
   "source": [
    "# Guess the number!\n",
    "\n",
    "import random\n",
    "\n",
    "def main():\n",
    "    # Get a random number: this is the number the computer\n",
    "    # will use for its \"secret\" number that you must guess.\n",
    "    number = random.randint(1, 10)\n",
    "    \n",
    "    # Put code for your loop here.\n",
    "\n",
    "main()"
   ]
  },
  {
   "cell_type": "markdown",
   "id": "civil-croatia",
   "metadata": {
    "deletable": false,
    "editable": false,
    "run_control": {
     "frozen": true
    }
   },
   "source": [
    "## Today's warmup\n",
    "\n",
    "* Write a program that lets the user enter pairs of\n",
    "integers repeatedly (use a while loop).\n",
    "* The program should print the sum of each pair of\n",
    "numbers after the pair is entered.\n",
    "* If the sum is 42, end the loop (and do not print the\n",
    "sum in that case).\n",
    "* Challenge: Modify the loop so that it still ends on a\n",
    "sum of 42, but 42 is printed.\n",
    "* Challenge 2: Write a loop that prints out the\n",
    "numbers from 1 to 100 (this is totally separate from\n",
    "the earlier problems)."
   ]
  },
  {
   "cell_type": "code",
   "execution_count": null,
   "id": "tired-privacy",
   "metadata": {},
   "outputs": [],
   "source": [
    "# Write your program here:\n",
    "\n",
    "def main():\n",
    "    # do stuff here\n",
    "    \n",
    "main()"
   ]
  },
  {
   "cell_type": "code",
   "execution_count": null,
   "id": "british-tiffany",
   "metadata": {},
   "outputs": [],
   "source": [
    "# Space for challenges or variations:\n",
    "\n"
   ]
  },
  {
   "cell_type": "code",
   "execution_count": null,
   "id": "cordless-cargo",
   "metadata": {},
   "outputs": [],
   "source": [
    "# Space for challenges or variations:\n",
    "\n"
   ]
  },
  {
   "cell_type": "code",
   "execution_count": null,
   "id": "immediate-honduras",
   "metadata": {},
   "outputs": [],
   "source": [
    "# Space for challenges or variations:\n",
    "\n"
   ]
  },
  {
   "cell_type": "markdown",
   "id": "developing-fence",
   "metadata": {
    "deletable": false,
    "editable": false,
    "run_control": {
     "frozen": true
    }
   },
   "source": [
    "## Today: Loops that count\n",
    "\n",
    "So far, we have seen how to write a few kinds of loops:\n",
    "\n",
    "- Loops that stop or keep going when the user explicitly answers a question.\n",
    "- Loops that stop or keep going based on the value of a variable that changes in the loop.\n",
    "\n",
    "One thing that all of the loops so far have had in common is that they all rely on user input to determine whether\n",
    "the loop stops or keeps going.\n",
    "\n",
    "But many kinds of loops don't need any user input to control them.  Today we will learn about **loops that count**, \n",
    "where the loop is controlled by a **numeric variable** that changes while the loop is running.  When this variable\n",
    "reaches a certain value, the loop ends."
   ]
  },
  {
   "cell_type": "code",
   "execution_count": null,
   "id": "exact-drove",
   "metadata": {},
   "outputs": [],
   "source": [
    "# Our first loop that counts:\n",
    "\n",
    "def main():\n",
    "    ctr = 1\n",
    "    while ctr < 11:\n",
    "        print(\"The counter variable is\", ctr)\n",
    "        ctr = ctr + 1\n",
    "        \n",
    "main()"
   ]
  },
  {
   "cell_type": "markdown",
   "id": "endangered-colon",
   "metadata": {
    "deletable": false,
    "editable": false,
    "run_control": {
     "frozen": true
    }
   },
   "source": [
    "In the example above, the `ctr` variable is called a **counter variable**.  \n",
    "- Its purpose is to count from 1 to 10.  \n",
    "- The name `ctr` is not special; you can call it anything you want.  Common names are `ctr`, `counter`, `count` or even just single letter variable names such as `c`, `i`, `x`, or something similar.\n",
    "- This is one of the only places a single-letter variable name is OK!\n",
    "\n",
    "Counter variables usually need three things to control them:\n",
    "- Before the loop starts, you need to assign the counter variable a **starting value** (or **initial value**).  Here, that is `1`.\n",
    "- The loop condition is usually set so that when the counter variable reaches (or exceeds) some value, the loop will stop.  Here, the condition is `ctr < 11`, so the loop will stop when this condition becomes false.  Therefore, the last value of the counter variable will be 10.\n",
    "- Inside the loop, the counter variable should change to a new value.  Here, we set `ctr = ctr + 1`.  You can use any kind of assignment statement you want, as long as eventually, the counter variable will take on a value that makes the loop condition false."
   ]
  },
  {
   "cell_type": "code",
   "execution_count": null,
   "id": "appointed-marsh",
   "metadata": {},
   "outputs": [],
   "source": [
    "# Space to experiment:\n",
    "\n",
    "def main():\n",
    "    ctr = 1\n",
    "    while ctr < 11:\n",
    "        print(\"The counter variable is\", ctr)\n",
    "        ctr = ctr + 1\n",
    "        \n",
    "main()"
   ]
  },
  {
   "cell_type": "code",
   "execution_count": null,
   "id": "coral-silicon",
   "metadata": {},
   "outputs": [],
   "source": [
    "# More space...\n",
    "\n"
   ]
  },
  {
   "cell_type": "code",
   "execution_count": null,
   "id": "acoustic-precipitation",
   "metadata": {},
   "outputs": [],
   "source": [
    "# More space...\n",
    "\n"
   ]
  },
  {
   "cell_type": "code",
   "execution_count": null,
   "id": "right-ladder",
   "metadata": {},
   "outputs": [],
   "source": [
    "# More space...\n",
    "\n"
   ]
  },
  {
   "cell_type": "markdown",
   "id": "surprising-characterization",
   "metadata": {
    "deletable": false,
    "editable": false,
    "run_control": {
     "frozen": true
    }
   },
   "source": [
    "## Shortcut mathematics operators\n",
    "\n",
    "Because writing statements like `ctr = ctr + 1` are so common, many programming languages have a set of \"shortcut\" operators for math:\n",
    "\n",
    "    \n",
    "| <font size=+1>normal way</font> | <font size=+1>shortcut</font> |\n",
    "|:---------------|:------------|\n",
    "<font size=+1>`ctr = ctr + 1`</font> | <font size=+1>`ctr += 1`</font>\n",
    "<font size=+1>`ctr = ctr - 2`</font> | <font size=+1>`ctr -= 2`</font>\n",
    "<font size=+1>`ctr = ctr * 10`</font> | <font size=+1>`ctr *= 10`</font>\n",
    "<font size=+1>`ctr = ctr / 5`</font> | <font size=+1>`ctr /= 5`</font>\n",
    "<font size=+1>`ctr = ctr // 5`</font> | <font size=+1>`ctr //= 5`</font>\n",
    "<font size=+1>`ctr = ctr % 2`</font> | <font size=+1>`ctr %= 2`</font>\n",
    "    \n",
    "\n"
   ]
  },
  {
   "cell_type": "markdown",
   "id": "neither-perception",
   "metadata": {
    "deletable": false,
    "editable": false,
    "run_control": {
     "frozen": true
    }
   },
   "source": [
    "## Class practice\n",
    "\n",
    "Write the following loops.\n",
    "\n",
    "A. Write a loop to print the multiples of\n",
    "3 (between 3 and 60, inclusive)."
   ]
  },
  {
   "cell_type": "code",
   "execution_count": null,
   "id": "seasonal-falls",
   "metadata": {},
   "outputs": [],
   "source": [
    "# Code here.\n",
    "\n"
   ]
  },
  {
   "cell_type": "markdown",
   "id": "danish-netscape",
   "metadata": {
    "deletable": false,
    "editable": false,
    "run_control": {
     "frozen": true
    }
   },
   "source": [
    "B. Write a loop to print the multiples of\n",
    "5 (between 5 and 60, inclusive)."
   ]
  },
  {
   "cell_type": "code",
   "execution_count": null,
   "id": "completed-syndrome",
   "metadata": {},
   "outputs": [],
   "source": [
    "# Code here.\n",
    "\n"
   ]
  },
  {
   "cell_type": "markdown",
   "id": "chemical-cradle",
   "metadata": {
    "deletable": false,
    "editable": false,
    "run_control": {
     "frozen": true
    }
   },
   "source": [
    "C. Write a loop to print all numbers that are multiples of\n",
    "3 **or** 5 (between 3 and 60, inclusive)."
   ]
  },
  {
   "cell_type": "code",
   "execution_count": null,
   "id": "driving-blanket",
   "metadata": {},
   "outputs": [],
   "source": [
    "# Code here.\n",
    "\n"
   ]
  },
  {
   "cell_type": "markdown",
   "id": "marked-argentina",
   "metadata": {
    "deletable": false,
    "editable": false,
    "run_control": {
     "frozen": true
    }
   },
   "source": [
    "D. Write a loop to print the numbers\n",
    "from 1 to 30, each labeled with the word\n",
    "\"even\" or \"odd\" depending on the\n",
    "number."
   ]
  },
  {
   "cell_type": "code",
   "execution_count": null,
   "id": "random-respondent",
   "metadata": {},
   "outputs": [],
   "source": [
    "# Code here.\n",
    "\n"
   ]
  },
  {
   "cell_type": "markdown",
   "id": "administrative-training",
   "metadata": {
    "deletable": false,
    "editable": false,
    "run_control": {
     "frozen": true
    }
   },
   "source": [
    "E. Write a loop to print the numbers\n",
    "from 1 to 30, each labeled with whether\n",
    "the number is divisible by 3, by 5, by\n",
    "both 3 and 5, or neither 3 nor 5."
   ]
  },
  {
   "cell_type": "code",
   "execution_count": null,
   "id": "virtual-harbor",
   "metadata": {},
   "outputs": [],
   "source": [
    "# Code here.\n",
    "\n"
   ]
  },
  {
   "cell_type": "code",
   "execution_count": null,
   "id": "rough-discussion",
   "metadata": {},
   "outputs": [],
   "source": []
  }
 ],
 "metadata": {
  "kernelspec": {
   "display_name": "Python 3",
   "language": "python",
   "name": "python3"
  },
  "language_info": {
   "codemirror_mode": {
    "name": "ipython",
    "version": 3
   },
   "file_extension": ".py",
   "mimetype": "text/x-python",
   "name": "python",
   "nbconvert_exporter": "python",
   "pygments_lexer": "ipython3",
   "version": "3.8.6"
  },
  "varInspector": {
   "cols": {
    "lenName": 16,
    "lenType": 16,
    "lenVar": 40
   },
   "kernels_config": {
    "python": {
     "delete_cmd_postfix": "",
     "delete_cmd_prefix": "del ",
     "library": "var_list.py",
     "varRefreshCmd": "print(var_dic_list())"
    },
    "r": {
     "delete_cmd_postfix": ") ",
     "delete_cmd_prefix": "rm(",
     "library": "var_list.r",
     "varRefreshCmd": "cat(var_dic_list()) "
    }
   },
   "types_to_exclude": [
    "module",
    "function",
    "builtin_function_or_method",
    "instance",
    "_Feature"
   ],
   "window_display": false
  }
 },
 "nbformat": 4,
 "nbformat_minor": 5
}
