{
 "cells": [
  {
   "cell_type": "markdown",
   "id": "ranging-manhattan",
   "metadata": {},
   "source": [
    "# From last time\n",
    "\n",
    "Below is a version of the James Bond program from last time.  Notice at the end of the `james_bond()` function,\n",
    "it prints the ctr variable, indicating how many dice rolls it took until Bond either escaped or met his demise.\n",
    "\n",
    "Modify the program so it calculates the **average** number of dice rolls it takes until James bond escapes/dies.\n",
    "\n",
    "Hints: Change the `james_bond()` function so that it *returns* the counter variable, rather than just printing it out.\n",
    "\n",
    "In `main()`, change the function to **capture** the value of the return variable, and modify the loop so that it adds\n",
    "up the values of each number of dice rolls.  Then you can compute the average = [sum of total dice rolls]/[times the experiment was run]"
   ]
  },
  {
   "cell_type": "code",
   "execution_count": null,
   "id": "intellectual-theory",
   "metadata": {},
   "outputs": [],
   "source": [
    "import random\n",
    "\n",
    "def james_bond():\n",
    "    height = 30\n",
    "    ctr = 0\n",
    "    while height > 0 and height < 61 and ctr != 40:\n",
    "        #print(\"the platform is\", height, \"feet in the air\")\n",
    "        roll = random.randint(1, 6)\n",
    "        #print(\"you rolled\", roll)\n",
    "        \n",
    "        if roll <= 4:\n",
    "            height -= 2\n",
    "        else:\n",
    "            height += 2\n",
    "            \n",
    "        ctr += 1\n",
    "        \n",
    "    print(\"This took\", ctr, \"times\")\n",
    "\n",
    "def main():\n",
    "    for ctr in range(0, 100, 1):\n",
    "        james_bond()\n",
    "    \n",
    "\n",
    "main()"
   ]
  },
  {
   "cell_type": "markdown",
   "id": "vocational-dinner",
   "metadata": {},
   "source": [
    "## Recall:\n",
    "\n",
    "### Running totals\n",
    "\n",
    "A running total is a variation of a counting loop.  The difference is that our counting loops so far were designed\n",
    "to count up (or down) to a certain number, and then stop.  \n",
    "\n",
    "A running total also uses a *counter variable*, but normally the loop stopping condition is not when the counter variable reaches a certain number, but is rather controlled by some other outside factor (user input, or another variable)."
   ]
  },
  {
   "cell_type": "code",
   "execution_count": null,
   "id": "adaptive-chemical",
   "metadata": {},
   "outputs": [],
   "source": [
    "# Example of a running total: count how many times we can roll a die before we roll a 6.\n",
    "\n",
    "import random\n",
    "\n",
    "def main():\n",
    "    die_roll = random.randint(1, 6)\n",
    "    print(\"Die is\", die_roll)\n",
    "    times_rolled = 1\n",
    "    while die_roll != 6:\n",
    "        die_roll = random.randint(1, 6)\n",
    "        print(\"Die is\", die_roll)\n",
    "        times_rolled += 1\n",
    "        \n",
    "    print(\"It took\", times_rolled, \"times.\")\n",
    "    \n",
    "main()"
   ]
  },
  {
   "cell_type": "code",
   "execution_count": null,
   "id": "scientific-black",
   "metadata": {},
   "outputs": [],
   "source": [
    "# Same problem, but solved with the \"loop priming\" technique.\n",
    "\n",
    "import random\n",
    "\n",
    "def main():\n",
    "    die_roll = 0  # fake die roll just to prime the loop\n",
    "    times_rolled = 0\n",
    "    while die_roll != 6:\n",
    "        die_roll = random.randint(1, 6)\n",
    "        print(\"Die is\", die_roll)\n",
    "        times_rolled += 1\n",
    "        \n",
    "    print(\"It took\", times_rolled, \"times.\")\n",
    "    \n",
    "main()"
   ]
  },
  {
   "cell_type": "markdown",
   "id": "powerful-fellowship",
   "metadata": {},
   "source": [
    "## Warmup\n",
    "\n",
    "Write a loop to simulate a grocery store checkout line.  The loop should\n",
    "ask user to type in decimal numbers (floats) from the\n",
    "keyboard. Calculate a running total and print this out (that\n",
    "is, after each number is entered, you should display the sum\n",
    "of all the numbers entered so far). Stop the loop when the\n",
    "user types zero, and print the total of all the numbers.\n",
    "\n",
    "\n"
   ]
  },
  {
   "cell_type": "code",
   "execution_count": null,
   "id": "exotic-substitute",
   "metadata": {},
   "outputs": [],
   "source": [
    "# Your code here.\n",
    "\n"
   ]
  },
  {
   "cell_type": "markdown",
   "id": "comparable-british",
   "metadata": {},
   "source": [
    "Write a loop to calculate and print the sum of all the\n",
    "numbers from 1 to 100."
   ]
  },
  {
   "cell_type": "code",
   "execution_count": null,
   "id": "sexual-gardening",
   "metadata": {},
   "outputs": [],
   "source": [
    "# Your code here.\n",
    "\n"
   ]
  },
  {
   "cell_type": "markdown",
   "id": "affected-nurse",
   "metadata": {},
   "source": [
    "Write a loop to calculate and print the sum of the first 10\n",
    "odd numbers.  In other words, add up 1 + 3 + 5 + 7 + ..."
   ]
  },
  {
   "cell_type": "code",
   "execution_count": null,
   "id": "painful-tradition",
   "metadata": {},
   "outputs": [],
   "source": [
    "# Your code here.\n",
    "\n"
   ]
  },
  {
   "cell_type": "markdown",
   "id": "sporting-jurisdiction",
   "metadata": {},
   "source": [
    "### Terminology\n",
    "\n",
    "A **sentinel** is a special value that is used to end a loop.  Often it has no meaning as an actual value \n",
    "inside the loop.\n",
    "\n",
    "**Example**: Using a zero in the grocery store check out line to signal that there are no more groceries is a \n",
    "    sentinel value.\n",
    "    \n",
    "**Example**: The \"6\" in the dice rolling examples above is also a sentinel."
   ]
  },
  {
   "cell_type": "markdown",
   "id": "marine-mentor",
   "metadata": {},
   "source": [
    "## A note on running totals\n",
    "\n",
    "* This idea is used extremely often in programming, but it doesn't always correspond to the way humans would do something.\n",
    "* When humans add numbers, we tend to do them all at once if they are small, or use the elementary school method where you add the one's column, then the ten's column, and so on.  Computers most always do it one piece at a time: first number, second number, third number, keeping a running total\n",
    "as they go along.\n",
    "* We will encounter many problems that are solved by algorithms that use a loop to iterate over all the pieces of data we need, and using a variable to hold the **partial solution** to the problem.  In other words, we build up the solution step-by-step.  At the end of the loop, this variable will hold the entire solution.\n",
    "\n"
   ]
  },
  {
   "cell_type": "markdown",
   "id": "disabled-chair",
   "metadata": {},
   "source": [
    "# Today: input validation\n",
    "\n",
    "So far we have no way of preventing users from typing in \"bad\" input values.  In other words, the `input()` function\n",
    "can work for strings, ints, or floats, but we can't restrict it to only let the user type in, for example, positive\n",
    "integers, or odd integers, or uppercase letters.\n",
    "\n",
    "## The basic input validation loop:\n",
    "\n",
    "First, decide what constitutes \"good\" input from \"bad\" input.  In other words, decide which values the user\n",
    "should be able to enter and which they shouldn't be.\n",
    "\n",
    "Pseudocode:\n",
    "<font size=+1>\n",
    "```\n",
    "variable = input(...)\n",
    "while variable is a \"bad\" input:\n",
    "   print an error message\n",
    "   variable = input(...)\n",
    "```\n",
    "</font>\n"
   ]
  },
  {
   "cell_type": "code",
   "execution_count": null,
   "id": "unknown-wells",
   "metadata": {},
   "outputs": [],
   "source": [
    "# Example: Input only positive numbers.\n",
    "\n",
    "def main():\n",
    "    positive_num = int(input(\"Type in a positive number: \"))\n",
    "    while positive_num <= 0:  # test whether the variable is NEGATIVE (or zero)\n",
    "        print(\"Bad input, try again!\")\n",
    "        positive_num = int(input(\"Type in a positive number: \"))\n",
    "        \n",
    "    # Once we reach here, we are guaranteed the user has entered \"good\" input.\n",
    "    print(\"You entered:\", positive_num)\n",
    "\n",
    "main()"
   ]
  },
  {
   "cell_type": "markdown",
   "id": "violent-commons",
   "metadata": {},
   "source": [
    "### It's very common to move the input validation loop into a function by itself\n",
    "\n",
    "Let's move the input validation loop above into a function called `get_positive()` that \n",
    "can be used over and over to input only positive numbers.\n",
    "\n",
    "Then we will write a new `main()` function to get two positive numbers and add them together."
   ]
  },
  {
   "cell_type": "code",
   "execution_count": null,
   "id": "aging-contents",
   "metadata": {},
   "outputs": [],
   "source": [
    "# Copy and paste from above.\n",
    "\n"
   ]
  },
  {
   "cell_type": "markdown",
   "id": "early-wisconsin",
   "metadata": {},
   "source": [
    "## Class practice\n",
    "\n",
    "1. Write an input validation loop to allow only **odd numbers** as input.  Then move this loop into a function\n",
    "(or write it that way in the first place)."
   ]
  },
  {
   "cell_type": "code",
   "execution_count": null,
   "id": "forced-picture",
   "metadata": {},
   "outputs": [],
   "source": [
    "# Your code here.\n",
    "\n"
   ]
  },
  {
   "cell_type": "markdown",
   "id": "polish-orleans",
   "metadata": {},
   "source": [
    "2. Copy your code from above, and write a `main()` function that allows the user to enter a pair of odd numbers\n",
    "from the keyboard.  In other words, the user will be asked to enter one odd number,\n",
    "then be asked to enter a second odd number.  Print out which number of the\n",
    "two is bigger.\n",
    "\n",
    "Use your input validation function from above!\n"
   ]
  },
  {
   "cell_type": "code",
   "execution_count": null,
   "id": "related-annex",
   "metadata": {},
   "outputs": [],
   "source": [
    "# Your code here.\n",
    "\n"
   ]
  },
  {
   "cell_type": "markdown",
   "id": "conventional-sacramento",
   "metadata": {},
   "source": [
    "3. Copy your code, then change it so the user may enter pairs of odd numbers **over and over again**, until the\n",
    "user happens to enter a pair of numbers that add up to 10.  For each pair of numbers, as above, print out which\n",
    "of the pair is bigger."
   ]
  },
  {
   "cell_type": "code",
   "execution_count": null,
   "id": "expired-framing",
   "metadata": {},
   "outputs": [],
   "source": [
    "# Your code here.\n",
    "\n"
   ]
  },
  {
   "cell_type": "markdown",
   "id": "dependent-residence",
   "metadata": {},
   "source": [
    "4. Copy your code, and change it so after the loop ends, we can see the total sum of all the odd numbers the\n",
    "user ever entered.\n",
    "\n",
    "**Challenge**: Keep two running totals, one adding up just the first number from each pair, and a second adding\n",
    "    up the second number of the pair."
   ]
  },
  {
   "cell_type": "code",
   "execution_count": null,
   "id": "shared-violence",
   "metadata": {},
   "outputs": [],
   "source": [
    "# Your code here.\n",
    "\n"
   ]
  },
  {
   "cell_type": "markdown",
   "id": "handed-accessory",
   "metadata": {},
   "source": [
    "## A different way to \"skip\" something in a loop\n",
    "\n",
    "Consider the grocery store checkout line loop that asks for floating point numbers over and over and\n",
    "stops when a zero is typed in.\n",
    "\n",
    "Suppose we want to only allow positive grocery store prices.\n",
    "\n",
    "(I suppose negative numbers could indicate coupons, but let's assume that doesn't happen.)\n",
    "\n",
    "Here is a different way to do it.\n",
    "\n"
   ]
  },
  {
   "cell_type": "code",
   "execution_count": null,
   "id": "essential-lawsuit",
   "metadata": {},
   "outputs": [],
   "source": [
    "# Copy your grocery store code from above.\n",
    "\n"
   ]
  },
  {
   "cell_type": "markdown",
   "id": "spoken-pickup",
   "metadata": {},
   "source": [
    "## `continue` statement\n",
    "\n",
    "A `continue` statement allows you to **go back to the top of a loop** early.  Normally, a loop only goes back\n",
    "to the top (the beginning of the body) when it reaches the end of the body.  This statement allows you to \"short-circuit\" a loop to make it start over early.\n",
    "\n",
    "This is often used as another way of doing input validation, because it can be used to \"restart\" a loop if you receive bad input.\n",
    "\n"
   ]
  },
  {
   "cell_type": "code",
   "execution_count": null,
   "id": "bulgarian-preparation",
   "metadata": {},
   "outputs": [],
   "source": [
    "## Only allow odd numbers:\n",
    "\n",
    "def main():\n",
    "    num = 1\n",
    "    total = 0\n",
    "    while num != 0:\n",
    "        num = int(input(\"Give me an odd number: \"))\n",
    "\n",
    "        if num % 2 == 0:          # if the number is even\n",
    "            print(\"Bad number!\")  # print an error message\n",
    "            continue              # restart the loop\n",
    "\n",
    "        total += num      # only add up odd numbers\n",
    "        \n",
    "    print(\"Total =\", total)\n",
    "    \n",
    "main()"
   ]
  },
  {
   "cell_type": "code",
   "execution_count": null,
   "id": "modular-washington",
   "metadata": {},
   "outputs": [],
   "source": [
    "## Equivalent way without using continue:\n",
    "\n",
    "def main():\n",
    "    num = 1\n",
    "    total = 0\n",
    "    while num != 0:\n",
    "        num = int(input(\"Give me an odd number: \"))\n",
    "\n",
    "        if num % 2 == 0:            # if the number is even\n",
    "            print(\"Bad number!\")    # print an error message\n",
    "        else:                       # if it's not even\n",
    "            total += num            # add up the (odd) number\n",
    "            \n",
    "    print(\"Total =\", total)\n",
    "    \n",
    "main()"
   ]
  },
  {
   "cell_type": "code",
   "execution_count": null,
   "id": "collected-consistency",
   "metadata": {},
   "outputs": [],
   "source": []
  },
  {
   "cell_type": "code",
   "execution_count": null,
   "id": "acknowledged-wright",
   "metadata": {},
   "outputs": [],
   "source": []
  }
 ],
 "metadata": {
  "kernelspec": {
   "display_name": "Python 3",
   "language": "python",
   "name": "python3"
  },
  "language_info": {
   "codemirror_mode": {
    "name": "ipython",
    "version": 3
   },
   "file_extension": ".py",
   "mimetype": "text/x-python",
   "name": "python",
   "nbconvert_exporter": "python",
   "pygments_lexer": "ipython3",
   "version": "3.8.6"
  },
  "varInspector": {
   "cols": {
    "lenName": 16,
    "lenType": 16,
    "lenVar": 40
   },
   "kernels_config": {
    "python": {
     "delete_cmd_postfix": "",
     "delete_cmd_prefix": "del ",
     "library": "var_list.py",
     "varRefreshCmd": "print(var_dic_list())"
    },
    "r": {
     "delete_cmd_postfix": ") ",
     "delete_cmd_prefix": "rm(",
     "library": "var_list.r",
     "varRefreshCmd": "cat(var_dic_list()) "
    }
   },
   "types_to_exclude": [
    "module",
    "function",
    "builtin_function_or_method",
    "instance",
    "_Feature"
   ],
   "window_display": false
  }
 },
 "nbformat": 4,
 "nbformat_minor": 5
}
