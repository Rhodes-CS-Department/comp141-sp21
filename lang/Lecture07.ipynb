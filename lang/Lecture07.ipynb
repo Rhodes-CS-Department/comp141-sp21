{
 "cells": [
  {
   "attachments": {
    "canvas.png": {
     "image/png": "[encoded data removed]"
    }
   },
   "cell_type": "markdown",
   "metadata": {},
   "source": [
    "# Lecture 7: Graphics\n",
    "\n",
    "* Many programming languages include a library for computer graphics \n",
    "* A __library__ is a pre-written collection of functions usually centered around a theme (graphics, networking, math, sound, etc.)\n",
    "* Python provides many libraries: https://docs.python.org/3/library/\n",
    "* Using libraries (rather than starting from scratch) enables you to write programs faster\n",
    "* Libraries are centered around functions because we know functions are abstractions of algorithms.\n",
    "\n",
    "## The Canvas\n",
    "\n",
    "* All graphics in Python are drawn in a separate window called the canvas.\n",
    "* The canvas is laid out similarly to the Cartesian plane, but with a flipped y-axis.\n",
    "\n",
    "![canvas.png](attachment:canvas.png)\n",
    "\n",
    "\n",
    "## Graphics and Colors\n",
    "\n",
    "* Everything represented by a computer is fundamentally comprised of discrete numeric values… Including things like music, images, sounds, etc.\n",
    "* A color, for example, is represented by three values (between 0 and 255).\n",
    "* These values dictate how much Red, Green, and Blue comprise the color. What are these colors? \n",
    "\n",
    "```\n",
    "0, 0, 0 #black\n",
    "255, 255, 255 #white\n",
    "255, 0, 0 #red\n",
    "0, 255, 0 #green\n",
    "0, 0, 255 ?\n",
    "255, 0, 255 ?\n",
    "125, 125, 125\n",
    "255, 255, 0\n",
    "255, 100, 10\n",
    "```\n",
    "\n",
    "## Your first Graphics program\n",
    "\n",
    "For more information about the functions included in our cs1.graphics library, please see the reference link (also linked to on Canvas): https://matthewlang.github.io/comp141/graphics.html\n"
   ]
  },
  {
   "cell_type": "code",
   "execution_count": 1,
   "metadata": {},
   "outputs": [
    {
     "data": {
      "image/png": "[encoded data removed]",
      "text/plain": [
       "<PIL.Image.Image image mode=RGB size=500x200 at 0x7F13C81EFF28>"
      ]
     },
     "metadata": {},
     "output_type": "display_data"
    }
   ],
   "source": [
    "from cs1.graphics import *\n",
    "\n",
    "def main():\n",
    "  #Always be sure to open the canvas in main - you only want 1 canvas per program\n",
    "  open_canvas(500, 200)\n",
    "  \n",
    "  #Resets the colors back to their default (white background, black pencolor)\n",
    "  reset_colors()\n",
    "  #To see what you drew, be sure to display the canvas\n",
    "  display_canvas()\n",
    "  \n",
    "main()"
   ]
  },
  {
   "cell_type": "markdown",
   "metadata": {},
   "source": [
    "## Practice\n",
    "\n",
    "In the cell below, use the cs1.graphics library to draw whatever you'd like! Experiment with as many of the functions as possible. Here are some ideas for drawing inspiration!\n",
    "* a landscape (mountains, trees, houses, a cityscape, or something like that)\n",
    "* a self-portrait\n",
    "* A depiction of the solar system\n",
    "* the Mona Lisa\n",
    "* something else of your choice "
   ]
  },
  {
   "cell_type": "code",
   "execution_count": 1,
   "metadata": {},
   "outputs": [
    {
     "data": {
      "image/png": "[encoded data removed]",
      "text/plain": [
       "<PIL.Image.Image image mode=RGB size=500x200 at 0x7F65E69440B8>"
      ]
     },
     "metadata": {},
     "output_type": "display_data"
    }
   ],
   "source": [
    "from cs1.graphics import *\n",
    "\n",
    "def main():\n",
    "  open_canvas(500, 200)\n",
    "  #Your code goes here\n",
    "  \n",
    "  display_canvas()\n",
    "  \n",
    "main()"
   ]
  },
  {
   "cell_type": "markdown",
   "metadata": {},
   "source": [
    "## Lab 02 - Graphics & Functions\n",
    "* Due by Wednesday, Sept. 16 at 11:59pm - replacement for class time on Wednesday\n",
    "* I'll be available in our normal Zoom session during class time on Wednesday to answer any questions.\n",
    "* If you'd like to come and work on your lab during class time with a partner in Zoom, you're more than welcome.\n",
    "\n",
    "\n",
    "__Other To-Do Tasks__:\n",
    "* Finish Program 2 - due tomorrow by 11:59pm\n",
    "* Take Quiz 3 on Canvas - due tomorrow by 11:59pm\n",
    "* Program 3 will be assigned on Wednesday - due on Tuesday, Sept. 22 at 11:59pm."
   ]
  },
  {
   "cell_type": "code",
   "execution_count": null,
   "metadata": {},
   "outputs": [],
   "source": []
  }
 ],
 "metadata": {
  "kernelspec": {
   "display_name": "Python 3",
   "language": "python",
   "name": "python3"
  },
  "language_info": {
   "codemirror_mode": {
    "name": "ipython",
    "version": 3
   },
   "file_extension": ".py",
   "mimetype": "text/x-python",
   "name": "python",
   "nbconvert_exporter": "python",
   "pygments_lexer": "ipython3",
   "version": "3.8.6"
  },
  "varInspector": {
   "cols": {
    "lenName": 16,
    "lenType": 16,
    "lenVar": 40
   },
   "kernels_config": {
    "python": {
     "delete_cmd_postfix": "",
     "delete_cmd_prefix": "del ",
     "library": "var_list.py",
     "varRefreshCmd": "print(var_dic_list())"
    },
    "r": {
     "delete_cmd_postfix": ") ",
     "delete_cmd_prefix": "rm(",
     "library": "var_list.r",
     "varRefreshCmd": "cat(var_dic_list()) "
    }
   },
   "types_to_exclude": [
    "module",
    "function",
    "builtin_function_or_method",
    "instance",
    "_Feature"
   ],
   "window_display": false
  }
 },
 "nbformat": 4,
 "nbformat_minor": 2
}
