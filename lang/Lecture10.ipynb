{
 "cells": [
  {
   "cell_type": "markdown",
   "metadata": {},
   "source": [
    "# Lecture 10: Counting Loops\n",
    "\n",
    "## Warm-up\n",
    "\n",
    "Write a program that lets the user enter pairs of integers repeatedly (use a while loop).\n",
    "* The program should print the sum of each pair of numbers after the pair is entered.\n",
    "* If the sum is 42, end the loop (and do not print the sum in that case)."
   ]
  },
  {
   "cell_type": "code",
   "execution_count": null,
   "metadata": {},
   "outputs": [],
   "source": [
    "# Write warm-up code here"
   ]
  },
  {
   "cell_type": "markdown",
   "metadata": {},
   "source": [
    "A common type of loop is one that is controlled by an integer that counts up from a initial value to an upper limit. Such a loop is called a __counting loop__. The integer is called a loop control variable. \n",
    "\n",
    "For example, we could have a computer count up from 1 to 10. We will use a counter variable that we will increment inside the loop. Increment means increase the value by one. Note that we continue the loop as long as the counter is less than or equal to the desired last value."
   ]
  },
  {
   "cell_type": "code",
   "execution_count": null,
   "metadata": {},
   "outputs": [],
   "source": [
    "cnt = 1\n",
    "while cnt <= 10:\n",
    "    print(cnt)\n",
    "    cnt = cnt + 1"
   ]
  },
  {
   "cell_type": "code",
   "execution_count": null,
   "metadata": {},
   "outputs": [],
   "source": [
    "# This loop counts by 2s instead, from 2 up to and including 100\n",
    "cnt = 2\n",
    "while cnt <= 100:\n",
    "    print(cnt)\n",
    "    cnt = cnt + 2"
   ]
  },
  {
   "cell_type": "code",
   "execution_count": null,
   "metadata": {},
   "outputs": [],
   "source": [
    "# What's the output of this loop? Guess without running the code.\n",
    "cnt = 2\n",
    "while cnt <= 100:\n",
    "    print(cnt)\n",
    "    cnt = cnt * 2"
   ]
  },
  {
   "cell_type": "markdown",
   "metadata": {},
   "source": [
    "For each of the following cells, follow the instructions in the cell and write a loop that does as specifies.\n",
    "\n",
    "You don't need to write any functions or main() for these, just the loop code is fine."
   ]
  },
  {
   "cell_type": "code",
   "execution_count": null,
   "metadata": {},
   "outputs": [],
   "source": [
    "# Write a loop to print the multiples of 3 (between 3 and 60, inclusive)."
   ]
  },
  {
   "cell_type": "code",
   "execution_count": null,
   "metadata": {},
   "outputs": [],
   "source": [
    "# Write a loop to print the multiples of 5 (between 5 and 60, inclusive)."
   ]
  },
  {
   "cell_type": "code",
   "execution_count": null,
   "metadata": {},
   "outputs": [],
   "source": [
    "# Write a loop to print the multiples of 3 and/or 5 (between 3 and 60,\n",
    "# inclusive). This should be one single increasing list of numbers.\n",
    "# Hint: a value is a multiple of 3 if value % 3 == 0."
   ]
  },
  {
   "cell_type": "code",
   "execution_count": null,
   "metadata": {},
   "outputs": [],
   "source": [
    "# Write a loop to print the numbers from 1 to 30, each labeled with the\n",
    "# word \"even\" or \"odd\" depending on the number."
   ]
  },
  {
   "cell_type": "code",
   "execution_count": null,
   "metadata": {},
   "outputs": [],
   "source": [
    "# Write a loop to print the numbers from 1 to 30, each labeled with\n",
    "# whether the number is divisible by 3, by 5, by both 3 and 5,\n",
    "# or neither 3 nor 5."
   ]
  },
  {
   "cell_type": "markdown",
   "metadata": {},
   "source": [
    "## Accumulating a String\n",
    "In addition to accumlating number values inside a loop, you can also accumulate a string using string concatenation.  One way to do this is to initialize an empty string and then accumulate the value inside the loop.\n",
    "\n",
    "` s = ''`\n",
    "\n",
    "` s = s + '*'  #the order of the additions here matters sometimes`\n",
    "\n",
    "### Practice: Fence Posts\n",
    "\n",
    "Now you try.   Create a snippet of code that asks the user for the number of posts in a fence.  The posts will be the '|' character and the beams will be the '-' character.   When the user gives the value 5 the fence that will be printed will look like:  '|-|-|-|-|-|'  .   For this problem, I want you to use a loop to solve it.  There is a shorter way to do it."
   ]
  },
  {
   "cell_type": "code",
   "execution_count": null,
   "metadata": {},
   "outputs": [],
   "source": [
    "def main():\n",
    "    x = int(input(\"Number of fence posts: \"))\n",
    "\n",
    "main()  "
   ]
  },
  {
   "cell_type": "markdown",
   "metadata": {},
   "source": [
    "### Practice: Greatest Common Divisor\n",
    "\n",
    "Finding the greatest common divisor of 2 numbers is a common problem that mathematicians need to solve. It is especially useful for reducing fractions to be in lowest terms. \n",
    "\n",
    "The greatest common divisor (gcd) of two or more integers, which are not all zero, is the largest positive integer that divides each of the integers. For example, the gcd of 8 and 12 is 4.\n",
    "\n",
    "Write code to find the gcd of any 2 numbers.\n",
    "\n",
    "1. Start by writing a loop that prints all divisors of 30. Your code should print out the following: 1, 2, 3, 5, 6, 10, 15, 30\n",
    "2. Next, modify this loop to print out all common divisors of 30 AND 50. Your code should print out 1, 2, 5, 10\n",
    "3. Now let the user select any 2 integers and print out the common divisors of these 2 integers.\n",
    "4. Finally, modify your code so it only prints out the largest of the common divisors of these 2 numbers."
   ]
  },
  {
   "cell_type": "code",
   "execution_count": null,
   "metadata": {},
   "outputs": [],
   "source": []
  },
  {
   "cell_type": "markdown",
   "metadata": {},
   "source": [
    "### Practice: Simulating Flipping Coins\n",
    "\n",
    "* Simulate a coin flip by randomly selecting between 0 (heads) and 1 (tails).\n",
    "* After you get that working, write a program that counts the number of times it takes to get 3 consecutive heads.\n",
    "* Hints:\n",
    "    * What is the condition of the while?\n",
    "    * A variable needs to initialized before the while and updated inside the while loop. What sort of information should this variable store?\n",
    "    * When a person gets tails what happens to the total count of heads?\n",
    "    * When a person gets heads what happens to the total count of heads?"
   ]
  },
  {
   "cell_type": "code",
   "execution_count": null,
   "metadata": {},
   "outputs": [],
   "source": [
    "import random\n",
    "\n",
    "#global constants to use in your program\n",
    "HEADS = 0\n",
    "TAILS = 1\n"
   ]
  }
 ],
 "metadata": {
  "kernelspec": {
   "display_name": "Python 3",
   "language": "python",
   "name": "python3"
  },
  "language_info": {
   "codemirror_mode": {
    "name": "ipython",
    "version": 3
   },
   "file_extension": ".py",
   "mimetype": "text/x-python",
   "name": "python",
   "nbconvert_exporter": "python",
   "pygments_lexer": "ipython3",
   "version": "3.8.6"
  },
  "varInspector": {
   "cols": {
    "lenName": 16,
    "lenType": 16,
    "lenVar": 40
   },
   "kernels_config": {
    "python": {
     "delete_cmd_postfix": "",
     "delete_cmd_prefix": "del ",
     "library": "var_list.py",
     "varRefreshCmd": "print(var_dic_list())"
    },
    "r": {
     "delete_cmd_postfix": ") ",
     "delete_cmd_prefix": "rm(",
     "library": "var_list.r",
     "varRefreshCmd": "cat(var_dic_list()) "
    }
   },
   "types_to_exclude": [
    "module",
    "function",
    "builtin_function_or_method",
    "instance",
    "_Feature"
   ],
   "window_display": false
  }
 },
 "nbformat": 4,
 "nbformat_minor": 2
}
