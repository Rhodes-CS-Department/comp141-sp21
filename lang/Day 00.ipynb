{
 "cells": [
  {
   "cell_type": "code",
   "execution_count": null,
   "id": "elementary-arthritis",
   "metadata": {},
   "outputs": [],
   "source": [
    "print('Python is cool!')"
   ]
  },
  {
   "cell_type": "code",
   "execution_count": null,
   "id": "protective-template",
   "metadata": {},
   "outputs": [],
   "source": [
    "sum = 0\n",
    "for i in range(1, 100):\n",
    "    sum += i * i\n",
    "print('The sum of squares from 1 to 100 is', sum)"
   ]
  }
 ],
 "metadata": {
  "kernelspec": {
   "display_name": "Python 3",
   "language": "python",
   "name": "python3"
  },
  "language_info": {
   "codemirror_mode": {
    "name": "ipython",
    "version": 3
   },
   "file_extension": ".py",
   "mimetype": "text/x-python",
   "name": "python",
   "nbconvert_exporter": "python",
   "pygments_lexer": "ipython3",
   "version": "3.8.6"
  }
 },
 "nbformat": 4,
 "nbformat_minor": 5
}
