{
 "cells": [
  {
   "cell_type": "code",
   "execution_count": null,
   "metadata": {},
   "outputs": [],
   "source": [
    "def colors(x):\n",
    "    x = x + 1\n",
    "    if x < 10:         \n",
    "        print(\"blue\", end=', ')    \n",
    "    if x > 8:       \n",
    "        print(\"orange\", end=', ')\n",
    "    elif x < 3:\n",
    "        print(\"red\", end=', ')  \n",
    "    else:\n",
    "        print(\"green\", end=', ') \n",
    "\n",
    "def main(): \n",
    "    x = 12\n",
    "    colors(x)\n",
    "    colors(4)\n",
    "    print(x)\n",
    "\n",
    "main()"
   ]
  },
  {
   "attachments": {},
   "cell_type": "markdown",
   "metadata": {},
   "source": [
    "# Lecture 8: Functions that Return Values"
   ]
  },
  {
   "cell_type": "markdown",
   "metadata": {},
   "source": [
    "* Pretend we’re computing grades for a class that has three homework assignments and three tests.  The final grade in the class is weighted so that 75% of the final grade is from the test average and 25% is from the homework average.\n",
    "\n",
    "* We’d like to write a program to use our average function to take the averages of the test and homework grades, and then weight those averages appropriately to compute a final course grade."
   ]
  },
  {
   "cell_type": "code",
   "execution_count": null,
   "metadata": {},
   "outputs": [],
   "source": [
    "def average(a, b, c):\n",
    "  avg = (a + b + c)/3\n",
    "  print(\"The average of your numbers is: \", avg)\n",
    "  \n",
    "def main():\n",
    "  test1 = float(input(\"Give me the first test grade: \"))\n",
    "  test2 = float(input(\"Give me the second test grade: \"))\n",
    "  test3 = float(input(\"Give me the third test grade: \"))\n",
    "  average(test1, test2, test3)\n",
    "  hw1 = float(input(\"Give me the first HW grade: \"))\n",
    "  hw2 = float(input(\"Give me the second HW grade: \"))\n",
    "  hw3 = float(input(\"Give me the third HW grade: \"))\n",
    "  average(hw1, hw2, hw3)\n",
    "  # some code here to weight the test average by 0.75\n",
    "  # and the hw average by 0.25 and combine them.\n",
    "\n",
    "main()"
   ]
  },
  {
   "cell_type": "markdown",
   "metadata": {},
   "source": [
    "The example code above has the following issues: \n",
    "* main can't see the \"avg\" variable inside of average because avg is a local variable.\n",
    "* whenever we call average, a new `avg` variable is created and the old one is lost.  \n",
    "* Even if we could access avg from main, there's no way we could have both the homework and test `avg` values at the same time.\n",
    "\n",
    "\n",
    "__What we want to do is:__\n",
    "\n",
    "`final_grade = 0.75 * (avg from the first call to average) + 0.25 * (avg from the 2nd call)`"
   ]
  },
  {
   "cell_type": "markdown",
   "metadata": {},
   "source": [
    "## Return values to the rescue!\n",
    "\n",
    "```\n",
    "def function(arg1, arg2, …):\n",
    "   statement\n",
    "   statement\n",
    "   [ more statements if desired ]\n",
    "   return value  \n",
    "```\n",
    "\n",
    "__Return statements__\n",
    "* When Python sees a line in a function beginning with \"return,\" the function __immediately__ ends, and the value is sent back to the caller.\n",
    "* The return value can be a literal (string or number), or a local variable from the function\n",
    "\n",
    "__Capturing the return value__\n",
    "\n",
    "* Use an assignment statement to \"capture\" the return value. (otherwise, it is lost forever)\n",
    "* `variable = function(...)` \n",
    "* When Python sees a line like above, the function is called normally.  However, when the function ends and a value is \"sent back\" to the caller, the value is put into the variable you specify.\n",
    "\n"
   ]
  },
  {
   "cell_type": "code",
   "execution_count": null,
   "metadata": {},
   "outputs": [],
   "source": [
    "def average(a, b, c):\n",
    "  avg = (a + b + c)/3\n",
    "  print(\"The average of your numbers is: \", avg)\n",
    "  \n",
    "def main():\n",
    "  test1 = float(input(\"Give me the first test grade: \"))\n",
    "  test2 = float(input(\"Give me the second test grade: \"))\n",
    "  test3 = float(input(\"Give me the third test grade: \"))\n",
    "  average(test1, test2, test3)\n",
    "  hw1 = float(input(\"Give me the first HW grade: \"))\n",
    "  hw2 = float(input(\"Give me the second HW grade: \"))\n",
    "  hw3 = float(input(\"Give me the third HW grade: \"))\n",
    "  average(hw1, hw2, hw3)\n",
    "  # some code here to weight the test average by 0.75\n",
    "  # and the hw average by 0.25 and combine them.\n",
    "\n",
    "main()"
   ]
  },
  {
   "cell_type": "markdown",
   "metadata": {},
   "source": [
    "In the above example, when you run the program the following happens:\n",
    "* main calls average: values test1, test2, and test3 are copied into a, b, and c.\n",
    "* average returns a copy of its local variable avg back to main, and the value is assigned to test_avg.\n",
    "* main calls average: values hw1, hw2, and hw3 are copied into a, b, and c.\n",
    "* average returns a copy of its local variable avg back to main, and the value is assigned to hw_avg.\n",
    "* Final calculation is done using the local to main variables test_avg and hw_avg\n"
   ]
  },
  {
   "cell_type": "markdown",
   "metadata": {},
   "source": [
    "__When writing functions, you should test them!__\n",
    "* Make sure they work in all kinds of situations.\n",
    "* Ex: Does average() work with negative numbers?  Floating point numbers?\n",
    "* Without writing a main function, call your function multiple times and test it."
   ]
  },
  {
   "cell_type": "code",
   "execution_count": null,
   "metadata": {},
   "outputs": [],
   "source": [
    "def average(a, b, c):\n",
    "  avg = (a + b + c) / 3\n",
    "  return avg"
   ]
  },
  {
   "cell_type": "markdown",
   "metadata": {},
   "source": [
    "## In-Class Exercise\n",
    "\n",
    "Write a program that computes the annual household income for a family with 2 working adults.\n",
    "1. Prompt the user for their and their partner’s hourly wage, as well as the tax rate.\n",
    "2. Calculate the total income for each of the adults after taxes. (Assume 40 hours/week and 52 weeks/year).\n",
    "3. Output the total household income."
   ]
  },
  {
   "cell_type": "code",
   "execution_count": null,
   "metadata": {},
   "outputs": [],
   "source": []
  },
  {
   "cell_type": "markdown",
   "metadata": {},
   "source": [
    "## Trace this Code Example\n",
    "Trace the following code by hand to determine the output. Run the code to verify your solution."
   ]
  },
  {
   "cell_type": "code",
   "execution_count": null,
   "metadata": {},
   "outputs": [],
   "source": [
    "def foo(x, y):\n",
    "    y = y + 1\n",
    "    x = 2 * (y + 3)\n",
    "    return x\n",
    "\n",
    "def main():\n",
    "    x = 5\n",
    "    y = 4\n",
    "    x = foo(x, y)\n",
    "    print(x, y)\n",
    "\n",
    "main()"
   ]
  },
  {
   "cell_type": "markdown",
   "metadata": {},
   "source": [
    "## Practice\n",
    "1. Write a function called `direction` that takes two float arguments, `x` and `y`. Consider an arrow  on the Cartesian plane pointing from (0,0) to (x, y). This function should return the string \"NE\", \"SE\", \"SW\", or \"NW\" depending on the direction that the arrow points. Assume `x` and `y` will never be 0. The def line will be: `def direction(x, y):`"
   ]
  },
  {
   "cell_type": "code",
   "execution_count": null,
   "metadata": {},
   "outputs": [],
   "source": []
  },
  {
   "cell_type": "markdown",
   "metadata": {},
   "source": [
    "2. Write a function called `area_of_circle` that takes in one float argument `radius`. This function should return the area of a circle with that radius ($area= \\pi ∗ 𝑟^2$). The def line will be: `def area_of_circle(radius):`"
   ]
  },
  {
   "cell_type": "code",
   "execution_count": null,
   "metadata": {},
   "outputs": [],
   "source": [
    "\n",
    "\n"
   ]
  }
 ],
 "metadata": {
  "kernelspec": {
   "display_name": "Python 3",
   "language": "python",
   "name": "python3"
  },
  "language_info": {
   "codemirror_mode": {
    "name": "ipython",
    "version": 3
   },
   "file_extension": ".py",
   "mimetype": "text/x-python",
   "name": "python",
   "nbconvert_exporter": "python",
   "pygments_lexer": "ipython3",
   "version": "3.8.6"
  },
  "varInspector": {
   "cols": {
    "lenName": 16,
    "lenType": 16,
    "lenVar": 40
   },
   "kernels_config": {
    "python": {
     "delete_cmd_postfix": "",
     "delete_cmd_prefix": "del ",
     "library": "var_list.py",
     "varRefreshCmd": "print(var_dic_list())"
    },
    "r": {
     "delete_cmd_postfix": ") ",
     "delete_cmd_prefix": "rm(",
     "library": "var_list.r",
     "varRefreshCmd": "cat(var_dic_list()) "
    }
   },
   "types_to_exclude": [
    "module",
    "function",
    "builtin_function_or_method",
    "instance",
    "_Feature"
   ],
   "window_display": false
  }
 },
 "nbformat": 4,
 "nbformat_minor": 2
}
